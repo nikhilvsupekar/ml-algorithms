{
 "cells": [
  {
   "cell_type": "code",
   "execution_count": 1,
   "metadata": {},
   "outputs": [],
   "source": [
    "import math\n",
    "import OpenSSL.crypto\n",
    "\n",
    "import numpy as np\n",
    "import pandas as pd\n",
    "import itertools\n",
    "import matplotlib.pyplot as plt\n",
    "%matplotlib inline\n",
    "from copy import copy\n",
    "from scipy.optimize import minimize\n",
    "\n",
    "from sklearn.base import BaseEstimator, RegressorMixin\n",
    "from sklearn.linear_model import Ridge, Lasso\n",
    "from sklearn.model_selection import GridSearchCV, PredefinedSplit\n",
    "from sklearn.model_selection import ParameterGrid\n",
    "from sklearn.metrics import mean_squared_error, make_scorer\n",
    "from sklearn.metrics import confusion_matrix\n",
    "\n",
    ""
   ]
  },
  {
   "cell_type": "code",
   "execution_count": null,
   "metadata": {},
   "outputs": [],
   "source": [
    "# SPARSE REPRESENTATIONS - Q1\n",
    "\n",
    "DATA_DIR = '../data/svm/data/'\n",
    "POS_DATA_DIR = DATA_DIR + 'pos/'\n",
    "NEG_DATA_DIR = DATA_DIR + 'neg/'\n",
    "\n"
   ]
  },
  {
   "cell_type": "code",
   "execution_count": null,
   "metadata": {},
   "outputs": [],
   "source": [
    "# map between word and word count in a list\n",
    "def list_to_dict(l):\n",
    "    d = {}\n",
    "    for word in l:\n",
    "        if word in d:\n",
    "            d[word] += 1\n",
    "        else:\n",
    "            d[word] = 1\n",
    "    \n",
    "    return d\n",
    "\n",
    "# read review file into a list of strings\n",
    "# each string = a token from the review\n",
    "def read_file(filepath):\n",
    "    f = open(file)\n",
    "    lines = f.read().split(' ')\n",
    "    symbols = '${}()[].,:;+-*/&|<>=~\" '\n",
    "    words = map(lambda Element: Element.translate(str.maketrans(\"\", \"\", symbols)).strip(), lines)\n",
    "    words = filter(None, words)\n",
    "    return list_to_dict(list(words))\n",
    "\n",
    "# return list of file names in a directory\n",
    "# skips directories\n",
    "def list_dir_files(dirpath):\n",
    "    file_names = []\n",
    "    children = os.listdir(dirpath)\n",
    "\n",
    "    for child in children:\n",
    "        if os.path.isfile(os.path.join(dirpath, child)):\n",
    "            file_names.append(child)\n",
    "    \n",
    "    return file_names\n",
    "\n",
    "# read all files in the directory\n",
    "def read_dir(dirpath):\n",
    "    file_names = list_dir_files(dirpath)\n",
    "\n",
    "    for file_name in file_names:\n",
    "        filepath = os.path.join(dirpath, file_name)\n",
    "\n",
    "        file_content = read_file(filepath)\n"
   ]
  }
 ],
 "metadata": {
  "kernelspec": {
   "display_name": "Python 3.7.3 64-bit ('base': conda)",
   "language": "python",
   "name": "python37364bitbaseconda5256b649568d47b0ada5f4982042f9e1"
  },
  "language_info": {
   "codemirror_mode": {
    "name": "ipython",
    "version": 3
   },
   "file_extension": ".py",
   "mimetype": "text/x-python",
   "name": "python",
   "nbconvert_exporter": "python",
   "pygments_lexer": "ipython3",
   "version": "3.7.3-final"
  }
 },
 "nbformat": 4,
 "nbformat_minor": 2
}