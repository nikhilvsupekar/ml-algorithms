{
 "cells": [
  {
   "cell_type": "code",
   "execution_count": 58,
   "metadata": {},
   "outputs": [],
   "source": [
    "import sys\n",
    "import os\n",
    "import pandas as pd\n",
    "import numpy as np\n",
    "import math\n",
    "%matplotlib inline\n",
    "import matplotlib.pyplot as plt\n",
    "\n",
    "from IPython.display import clear_output"
   ]
  },
  {
   "cell_type": "code",
   "execution_count": 2,
   "metadata": {},
   "outputs": [],
   "source": [
    "CLASSES = ['0', '1']\n",
    "SPAM_TRAIN_FILE_PATH = '../data/email_spam/spam_train.txt'"
   ]
  },
  {
   "cell_type": "code",
   "execution_count": 3,
   "metadata": {},
   "outputs": [],
   "source": [
    "############### QUESTION 1 ###############\n",
    "\n",
    "def read_text_file(file_path):\n",
    "    \"\"\"Returns each line of file as a list of strings\"\"\"\n",
    "    \n",
    "    if not os.path.isfile(file_path):\n",
    "        print(\"File {} doesn't exist\".format(file_path))\n",
    "    \n",
    "    file_lines = []\n",
    "    \n",
    "    with open(file_path) as fp:\n",
    "        for line in fp:\n",
    "            file_lines.append(line)\n",
    "    \n",
    "    return file_lines\n",
    "\n",
    "\n",
    "def train_val_split_sequential(file_path, ratio):\n",
    "    \"\"\"\n",
    "    Splits a file into training and validation data by a specified ratio\n",
    "    Train-validation splits are returned as lists of string\n",
    "    \"\"\"\n",
    "    \n",
    "    data = read_text_file(file_path)\n",
    "    train_size = int(len(data) * ratio)\n",
    "    train_data = data[0:train_size]\n",
    "    val_data = data[train_size:]\n",
    "    \n",
    "    return (train_data, val_data)"
   ]
  },
  {
   "cell_type": "code",
   "execution_count": 4,
   "metadata": {},
   "outputs": [],
   "source": [
    "train_data, val_data = train_val_split_sequential(SPAM_TRAIN_FILE_PATH, 0.8)"
   ]
  },
  {
   "cell_type": "markdown",
   "metadata": {},
   "source": [
    "Creation of a validation set allows us to tune the hyperparameters of the model to increase the accuracy.\n",
    "This is something that cannot be done on the test set because ideally the test should should purely be used to report the final performance of the model. Using the test set while training can induce a bias in the model and the model may not generalize well beyond the given datasets."
   ]
  },
  {
   "cell_type": "code",
   "execution_count": 5,
   "metadata": {},
   "outputs": [],
   "source": [
    "############### QUESTION 2 ###############\n",
    "\n",
    "def build_vocab(data, threshold=0):\n",
    "    \"\"\"\n",
    "    Takes input as a list of strings and returns a vocab of distinct words occurring in it.\n",
    "    Ignores all words occurring less than the threshold.\n",
    "    \"\"\"\n",
    "    \n",
    "    vocab = {}\n",
    "    \n",
    "    for line in data:\n",
    "        for word in line.split(' '):\n",
    "            vocab[word] = (1 if word not in vocab else (vocab[word] + 1))\n",
    "    \n",
    "    # remove the class names from vocab\n",
    "    for class_ in CLASSES:\n",
    "        vocab.pop(class_, None)\n",
    "    \n",
    "    # remove all keys with counts below a certain threshold\n",
    "    if threshold > 0:\n",
    "        for word in list(vocab.keys()):\n",
    "            if vocab[word] < threshold:\n",
    "                vocab.pop(word, None)\n",
    "    \n",
    "    return vocab\n",
    "\n",
    "\n",
    "def transform_doc_to_features(doc, vocab_keys):\n",
    "    \"\"\"\n",
    "    Transforms a single text document into a feature vector.\n",
    "    The vectorizer is a binary vectorizer i.e. the features takes value 1 if the word is\n",
    "        present in the text and 0 if the word is absent.\n",
    "    \"\"\"\n",
    "    \n",
    "    ret_list = []\n",
    "    doc_class = doc.split(' ')[0]\n",
    "    doc_words = doc.split(' ')[1:]\n",
    "    \n",
    "    ret_list.append(doc_class)\n",
    "    \n",
    "    for key in vocab_keys:\n",
    "        if key in doc_words:\n",
    "            ret_list.append(1)\n",
    "        else:\n",
    "            ret_list.append(0)\n",
    "    \n",
    "    return ret_list\n",
    "\n",
    "def transform_text_to_features(data, master_vocab_keys=[]):\n",
    "    \"\"\"\n",
    "    Transforms text data into feature vectors by building a dictionary if a dictionary is not provided.\n",
    "    The vectorizer is a binary vectorizer i.e. the features takes value 1 if the word is\n",
    "        present in the text and 0 if the word is absent.\n",
    "    Input is a list of strings.\n",
    "    Output is a dataframe of word features.\n",
    "    \"\"\"\n",
    "    \n",
    "    if len(master_vocab_keys) == 0:\n",
    "        vocab = build_vocab(data, 30)\n",
    "        vocab_keys = list(vocab.keys())\n",
    "    else:\n",
    "        vocab_keys = master_vocab_keys\n",
    "    \n",
    "    vocab_keys.sort()\n",
    "    features = ['__target__']\n",
    "    features.extend(vocab_keys)\n",
    "    transformed_list = []\n",
    "    \n",
    "    for doc in data:\n",
    "        transformed_list.append(transform_doc_to_features(doc, vocab_keys))\n",
    "    \n",
    "    return pd.DataFrame(transformed_list, columns = features), vocab_keys"
   ]
  },
  {
   "cell_type": "code",
   "execution_count": 6,
   "metadata": {},
   "outputs": [],
   "source": [
    "train_df, vocab_keys = transform_text_to_features(train_data)\n",
    "val_df, _ = transform_text_to_features(val_data, vocab_keys)"
   ]
  },
  {
   "cell_type": "code",
   "execution_count": 48,
   "metadata": {},
   "outputs": [],
   "source": [
    "############### QUESTION 3 ###############\n",
    "\n",
    "def drop_zeros(data):\n",
    "    train_features = list(data.columns)\n",
    "    train_features.remove('__target__')\n",
    "    \n",
    "    for index, row in data.iterrows():\n",
    "        x = row[train_features].to_numpy()\n",
    "        if x.sum() == 0:\n",
    "            data.drop(index, inplace = True)\n",
    "    \n",
    "    return data\n",
    "\n",
    "def perceptron_train(data, max_iterations = math.inf):\n",
    "    \"\"\"\n",
    "    Trains a perceptron model on the input dataframe\n",
    "    \"\"\"\n",
    "    \n",
    "    num_features = len(data.columns)\n",
    "    w = np.zeros(num_features - 1)\n",
    "    num_iterations = 0\n",
    "    num_updates = 0\n",
    "    \n",
    "    train_features = list(data.columns)\n",
    "    train_features.remove('__target__')\n",
    "    \n",
    "    data = drop_zeros(data)\n",
    "    \n",
    "    error_flag = True\n",
    "    while error_flag and num_iterations < max_iterations:\n",
    "        error_flag = False\n",
    "        for index, row in data.iterrows():\n",
    "            y = int(row['__target__'])\n",
    "            y = y * 2 - 1\n",
    "            x = row[train_features].to_numpy()\n",
    "            \n",
    "            if y * np.dot(w, x) <= 0:\n",
    "                w = w + y * x\n",
    "                error_flag = True\n",
    "                num_updates += 1\n",
    "        \n",
    "        num_iterations += 1\n",
    "    \n",
    "    return (w, num_updates, num_iterations)\n",
    "\n",
    "\n",
    "def perceptron_test(w, data):\n",
    "    \"\"\"\n",
    "    Tests a trained perceptron model with weights w on a dataset\n",
    "    Returns the test error [number of misclassified samples]\n",
    "    \"\"\"\n",
    "    \n",
    "    train_features = list(data.columns)\n",
    "    train_features.remove('__target__')\n",
    "    \n",
    "    test_error = 0\n",
    "    for index, row in data.iterrows():\n",
    "        y = int(row['__target__'])\n",
    "        x = row[train_features].to_numpy()\n",
    "        \n",
    "        if (y == 0 and np.dot(w, x) >= 0) or (y == 1 and np.dot(w, x) < 0):\n",
    "            test_error += 1\n",
    "    \n",
    "    test_error /= len(data.index)\n",
    "    \n",
    "    return test_error\n"
   ]
  },
  {
   "cell_type": "code",
   "execution_count": 49,
   "metadata": {},
   "outputs": [
    {
     "name": "stdout",
     "output_type": "stream",
     "text": [
      "learning weights from the Perceptron Algorithm...\n",
      "number of mistakes by the Perceptron Algorithm while learning = 419\n",
      "\n",
      "checking the error on the training set...\n",
      "number of mistakes the training set after learning = 0.0\n",
      "\n",
      "testing the Perceptron Algorithm on the validation set...\n",
      "error on the validation set = 0.023\n",
      "\n"
     ]
    }
   ],
   "source": [
    "############### QUESTION 4 ###############\n",
    "\n",
    "print(\"learning weights from the Perceptron Algorithm...\")\n",
    "weights, num_mistakes, num_iterations = perceptron_train(train_df)\n",
    "print(\"number of mistakes by the Perceptron Algorithm while learning = {}\\n\".format(num_mistakes))\n",
    "\n",
    "print(\"checking the error on the training set...\")\n",
    "training_error = perceptron_test(weights, train_df)\n",
    "print(\"number of mistakes the training set after learning = {}\\n\".format(training_error))\n",
    "\n",
    "print(\"testing the Perceptron Algorithm on the validation set...\")\n",
    "validation_error = perceptron_test(weights, val_df)\n",
    "print(\"error on the validation set = {}\\n\".format(validation_error))"
   ]
  },
  {
   "cell_type": "code",
   "execution_count": 21,
   "metadata": {},
   "outputs": [
    {
     "name": "stdout",
     "output_type": "stream",
     "text": [
      "features with the smallest weights\n",
      "-19.0\twrote\n",
      "-14.0\tprefer\n",
      "-14.0\twhich\n",
      "-12.0\tinc\n",
      "-12.0\tmessag\n",
      "-12.0\tsinc\n",
      "-12.0\turl\n",
      "-11.0\tand\n",
      "-11.0\tcopyright\n",
      "-11.0\ti\n",
      "-11.0\tstill\n",
      "-10.0\tbut\n",
      "-10.0\tdate\n",
      "-10.0\topen\n",
      "-10.0\treduc\n",
      "-10.0\trun\n",
      "\n",
      "features with the largest weights\n",
      "16.0\tclick\n",
      "16.0\tpleas\n",
      "16.0\tremov\n",
      "16.0\tsight\n",
      "14.0\tform\n",
      "13.0\tdeathtospamdeathtospamdeathtospam\n",
      "13.0\tmarket\n",
      "13.0\toffer\n",
      "13.0\tour\n",
      "12.0\tinternet\n",
      "12.0\tmost\n",
      "11.0\tad\n",
      "11.0\tbelow\n",
      "11.0\tfurther\n",
      "11.0\tguarante\n",
      "11.0\tminut\n"
     ]
    }
   ],
   "source": [
    "############### QUESTION 5 ###############\n",
    "\n",
    "def get_top_dict_values(dict_, k, order = 0):\n",
    "    \"\"\"\n",
    "    Sorts a dict and returns the top k elems as a list of tuples (ordered by values)\n",
    "    order = 0 for ascending, order = 1 for descending\n",
    "    \"\"\"\n",
    "    \n",
    "    # map the order from {0, 1} to {-1, 1}\n",
    "    order = order * 2 - 1\n",
    "    \n",
    "    d = {k:v for k, v in sorted(dict_.items(), key = lambda item : -order*item[1])}\n",
    "    ret_list = []\n",
    "    for x in list(d)[0:(k + 1)]:\n",
    "        ret_list.append((x, d[x]))\n",
    "    \n",
    "    return ret_list\n",
    "\n",
    "def print_top_dict_values(dict_, k, order = 0):\n",
    "    \"\"\"\n",
    "    Prints the top k elems of the dictionary (ordered by values)\n",
    "    order = 0 for ascending, order = 1 for descending\n",
    "    \"\"\"\n",
    "    \n",
    "    for x in get_top_dict_values(dict_, k, order):\n",
    "        print(\"{}\\t{}\".format(x[1], x[0]))\n",
    "\n",
    "feature_weight_map = dict(zip(vocab_keys, weights))\n",
    "\n",
    "print(\"features with the smallest weights\")\n",
    "print_top_dict_values(feature_weight_map, 15, 0)\n",
    "\n",
    "print(\"\\nfeatures with the largest weights\")\n",
    "print_top_dict_values(feature_weight_map, 15, 1)\n",
    "\n"
   ]
  },
  {
   "cell_type": "code",
   "execution_count": 52,
   "metadata": {},
   "outputs": [],
   "source": [
    "############### QUESTION 6 ###############\n",
    "\n",
    "def averaged_perceptron_train(data, max_iterations = math.inf):\n",
    "    \"\"\"\n",
    "    Trains a perceptron model on the input dataframe\n",
    "    \"\"\"\n",
    "    \n",
    "    num_features = len(data.columns)\n",
    "    w = np.zeros(num_features - 1)\n",
    "    w_avg = np.zeros(num_features - 1)\n",
    "    num_iterations = 0\n",
    "    num_updates = 0\n",
    "    \n",
    "    train_features = list(data.columns)\n",
    "    train_features.remove('__target__')\n",
    "    \n",
    "    error_flag = True\n",
    "    while error_flag and num_iterations < max_iterations:\n",
    "        error_flag = False\n",
    "        for index, row in data.iterrows():\n",
    "            y = int(row['__target__'])\n",
    "            y = y * 2 - 1\n",
    "            x = row[train_features].to_numpy()\n",
    "            \n",
    "            if y * np.dot(w, x) <= 0:\n",
    "                w = w + y * x\n",
    "                error_flag = True\n",
    "                num_updates += 1\n",
    "            \n",
    "            w_avg = w_avg + w\n",
    "        \n",
    "        num_iterations += 1\n",
    "    \n",
    "    w_avg = w_avg / (len(data.index) * num_iterations)\n",
    "    \n",
    "    return (w_avg, num_updates, num_iterations)"
   ]
  },
  {
   "cell_type": "code",
   "execution_count": 59,
   "metadata": {},
   "outputs": [
    {
     "name": "stdout",
     "output_type": "stream",
     "text": [
      "processing iteration 100...\n",
      "running simple perceptron...\n"
     ]
    },
    {
     "ename": "KeyboardInterrupt",
     "evalue": "",
     "output_type": "error",
     "traceback": [
      "\u001b[0;31m---------------------------------------------------------------------------\u001b[0m",
      "\u001b[0;31mKeyboardInterrupt\u001b[0m                         Traceback (most recent call last)",
      "\u001b[0;32m<ipython-input-59-da97ba401374>\u001b[0m in \u001b[0;36m<module>\u001b[0;34m\u001b[0m\n\u001b[1;32m     34\u001b[0m     \u001b[0mprint\u001b[0m\u001b[0;34m(\u001b[0m\u001b[0;34m\"running simple perceptron...\"\u001b[0m\u001b[0;34m)\u001b[0m\u001b[0;34m\u001b[0m\u001b[0;34m\u001b[0m\u001b[0m\n\u001b[1;32m     35\u001b[0m     \u001b[0mweights_N\u001b[0m\u001b[0;34m,\u001b[0m \u001b[0mnum_mistakes_N\u001b[0m\u001b[0;34m,\u001b[0m \u001b[0mnum_iterations_N\u001b[0m \u001b[0;34m=\u001b[0m \u001b[0mperceptron_train\u001b[0m\u001b[0;34m(\u001b[0m\u001b[0mtrain_df_N\u001b[0m\u001b[0;34m)\u001b[0m\u001b[0;34m\u001b[0m\u001b[0;34m\u001b[0m\u001b[0m\n\u001b[0;32m---> 36\u001b[0;31m     \u001b[0mvalidation_error_N\u001b[0m \u001b[0;34m=\u001b[0m \u001b[0mperceptron_test\u001b[0m\u001b[0;34m(\u001b[0m\u001b[0mweights_N\u001b[0m\u001b[0;34m,\u001b[0m \u001b[0mval_df_N\u001b[0m\u001b[0;34m)\u001b[0m\u001b[0;34m\u001b[0m\u001b[0;34m\u001b[0m\u001b[0m\n\u001b[0m\u001b[1;32m     37\u001b[0m     \u001b[0mvalidation_error_list\u001b[0m\u001b[0;34m.\u001b[0m\u001b[0mappend\u001b[0m\u001b[0;34m(\u001b[0m\u001b[0mvalidation_error_N\u001b[0m\u001b[0;34m)\u001b[0m\u001b[0;34m\u001b[0m\u001b[0;34m\u001b[0m\u001b[0m\n\u001b[1;32m     38\u001b[0m     \u001b[0mnum_iterations_list\u001b[0m\u001b[0;34m.\u001b[0m\u001b[0mappend\u001b[0m\u001b[0;34m(\u001b[0m\u001b[0mnum_iterations_N\u001b[0m\u001b[0;34m)\u001b[0m\u001b[0;34m\u001b[0m\u001b[0;34m\u001b[0m\u001b[0m\n",
      "\u001b[0;32m<ipython-input-48-8e8d024650cb>\u001b[0m in \u001b[0;36mperceptron_test\u001b[0;34m(w, data)\u001b[0m\n\u001b[1;32m     72\u001b[0m     \u001b[0;32mfor\u001b[0m \u001b[0mindex\u001b[0m\u001b[0;34m,\u001b[0m \u001b[0mrow\u001b[0m \u001b[0;32min\u001b[0m \u001b[0mdata\u001b[0m\u001b[0;34m.\u001b[0m\u001b[0miterrows\u001b[0m\u001b[0;34m(\u001b[0m\u001b[0;34m)\u001b[0m\u001b[0;34m:\u001b[0m\u001b[0;34m\u001b[0m\u001b[0;34m\u001b[0m\u001b[0m\n\u001b[1;32m     73\u001b[0m         \u001b[0my\u001b[0m \u001b[0;34m=\u001b[0m \u001b[0mint\u001b[0m\u001b[0;34m(\u001b[0m\u001b[0mrow\u001b[0m\u001b[0;34m[\u001b[0m\u001b[0;34m'__target__'\u001b[0m\u001b[0;34m]\u001b[0m\u001b[0;34m)\u001b[0m\u001b[0;34m\u001b[0m\u001b[0;34m\u001b[0m\u001b[0m\n\u001b[0;32m---> 74\u001b[0;31m         \u001b[0mx\u001b[0m \u001b[0;34m=\u001b[0m \u001b[0mrow\u001b[0m\u001b[0;34m[\u001b[0m\u001b[0mtrain_features\u001b[0m\u001b[0;34m]\u001b[0m\u001b[0;34m.\u001b[0m\u001b[0mto_numpy\u001b[0m\u001b[0;34m(\u001b[0m\u001b[0;34m)\u001b[0m\u001b[0;34m\u001b[0m\u001b[0;34m\u001b[0m\u001b[0m\n\u001b[0m\u001b[1;32m     75\u001b[0m \u001b[0;34m\u001b[0m\u001b[0m\n\u001b[1;32m     76\u001b[0m         \u001b[0;32mif\u001b[0m \u001b[0;34m(\u001b[0m\u001b[0my\u001b[0m \u001b[0;34m==\u001b[0m \u001b[0;36m0\u001b[0m \u001b[0;32mand\u001b[0m \u001b[0mnp\u001b[0m\u001b[0;34m.\u001b[0m\u001b[0mdot\u001b[0m\u001b[0;34m(\u001b[0m\u001b[0mw\u001b[0m\u001b[0;34m,\u001b[0m \u001b[0mx\u001b[0m\u001b[0;34m)\u001b[0m \u001b[0;34m>=\u001b[0m \u001b[0;36m0\u001b[0m\u001b[0;34m)\u001b[0m \u001b[0;32mor\u001b[0m \u001b[0;34m(\u001b[0m\u001b[0my\u001b[0m \u001b[0;34m==\u001b[0m \u001b[0;36m1\u001b[0m \u001b[0;32mand\u001b[0m \u001b[0mnp\u001b[0m\u001b[0;34m.\u001b[0m\u001b[0mdot\u001b[0m\u001b[0;34m(\u001b[0m\u001b[0mw\u001b[0m\u001b[0;34m,\u001b[0m \u001b[0mx\u001b[0m\u001b[0;34m)\u001b[0m \u001b[0;34m<\u001b[0m \u001b[0;36m0\u001b[0m\u001b[0;34m)\u001b[0m\u001b[0;34m:\u001b[0m\u001b[0;34m\u001b[0m\u001b[0;34m\u001b[0m\u001b[0m\n",
      "\u001b[0;32m~/anaconda3/lib/python3.7/site-packages/pandas/core/series.py\u001b[0m in \u001b[0;36m__getitem__\u001b[0;34m(self, key)\u001b[0m\n\u001b[1;32m    866\u001b[0m         \u001b[0mkey\u001b[0m \u001b[0;34m=\u001b[0m \u001b[0mcom\u001b[0m\u001b[0;34m.\u001b[0m\u001b[0mapply_if_callable\u001b[0m\u001b[0;34m(\u001b[0m\u001b[0mkey\u001b[0m\u001b[0;34m,\u001b[0m \u001b[0mself\u001b[0m\u001b[0;34m)\u001b[0m\u001b[0;34m\u001b[0m\u001b[0;34m\u001b[0m\u001b[0m\n\u001b[1;32m    867\u001b[0m         \u001b[0;32mtry\u001b[0m\u001b[0;34m:\u001b[0m\u001b[0;34m\u001b[0m\u001b[0;34m\u001b[0m\u001b[0m\n\u001b[0;32m--> 868\u001b[0;31m             \u001b[0mresult\u001b[0m \u001b[0;34m=\u001b[0m \u001b[0mself\u001b[0m\u001b[0;34m.\u001b[0m\u001b[0mindex\u001b[0m\u001b[0;34m.\u001b[0m\u001b[0mget_value\u001b[0m\u001b[0;34m(\u001b[0m\u001b[0mself\u001b[0m\u001b[0;34m,\u001b[0m \u001b[0mkey\u001b[0m\u001b[0;34m)\u001b[0m\u001b[0;34m\u001b[0m\u001b[0;34m\u001b[0m\u001b[0m\n\u001b[0m\u001b[1;32m    869\u001b[0m \u001b[0;34m\u001b[0m\u001b[0m\n\u001b[1;32m    870\u001b[0m             \u001b[0;32mif\u001b[0m \u001b[0;32mnot\u001b[0m \u001b[0mis_scalar\u001b[0m\u001b[0;34m(\u001b[0m\u001b[0mresult\u001b[0m\u001b[0;34m)\u001b[0m\u001b[0;34m:\u001b[0m\u001b[0;34m\u001b[0m\u001b[0;34m\u001b[0m\u001b[0m\n",
      "\u001b[0;32m~/anaconda3/lib/python3.7/site-packages/pandas/core/indexes/base.py\u001b[0m in \u001b[0;36mget_value\u001b[0;34m(self, series, key)\u001b[0m\n\u001b[1;32m   4373\u001b[0m         \u001b[0;32mtry\u001b[0m\u001b[0;34m:\u001b[0m\u001b[0;34m\u001b[0m\u001b[0;34m\u001b[0m\u001b[0m\n\u001b[1;32m   4374\u001b[0m             return self._engine.get_value(s, k,\n\u001b[0;32m-> 4375\u001b[0;31m                                           tz=getattr(series.dtype, 'tz', None))\n\u001b[0m\u001b[1;32m   4376\u001b[0m         \u001b[0;32mexcept\u001b[0m \u001b[0mKeyError\u001b[0m \u001b[0;32mas\u001b[0m \u001b[0me1\u001b[0m\u001b[0;34m:\u001b[0m\u001b[0;34m\u001b[0m\u001b[0;34m\u001b[0m\u001b[0m\n\u001b[1;32m   4377\u001b[0m             \u001b[0;32mif\u001b[0m \u001b[0mlen\u001b[0m\u001b[0;34m(\u001b[0m\u001b[0mself\u001b[0m\u001b[0;34m)\u001b[0m \u001b[0;34m>\u001b[0m \u001b[0;36m0\u001b[0m \u001b[0;32mand\u001b[0m \u001b[0;34m(\u001b[0m\u001b[0mself\u001b[0m\u001b[0;34m.\u001b[0m\u001b[0mholds_integer\u001b[0m\u001b[0;34m(\u001b[0m\u001b[0;34m)\u001b[0m \u001b[0;32mor\u001b[0m \u001b[0mself\u001b[0m\u001b[0;34m.\u001b[0m\u001b[0mis_boolean\u001b[0m\u001b[0;34m(\u001b[0m\u001b[0;34m)\u001b[0m\u001b[0;34m)\u001b[0m\u001b[0;34m:\u001b[0m\u001b[0;34m\u001b[0m\u001b[0;34m\u001b[0m\u001b[0m\n",
      "\u001b[0;32mpandas/_libs/index.pyx\u001b[0m in \u001b[0;36mpandas._libs.index.IndexEngine.get_value\u001b[0;34m()\u001b[0m\n",
      "\u001b[0;32mpandas/_libs/index.pyx\u001b[0m in \u001b[0;36mpandas._libs.index.IndexEngine.get_value\u001b[0;34m()\u001b[0m\n",
      "\u001b[0;32mpandas/_libs/index.pyx\u001b[0m in \u001b[0;36mpandas._libs.index.IndexEngine.get_loc\u001b[0;34m()\u001b[0m\n",
      "\u001b[0;31mKeyboardInterrupt\u001b[0m: "
     ]
    }
   ],
   "source": [
    "############### QUESTION 7 ###############\n",
    "\n",
    "TOTAL_TRAIN_SAMPLES = 5000\n",
    "NUM_TRAIN_SAMPLES_LIST = [100, 200, 400, 800, 2000, 4000]\n",
    "\n",
    "validation_error_list = []\n",
    "validation_error_list_avg = []\n",
    "num_iterations_list = []\n",
    "num_iterations_list_avg = []\n",
    "\n",
    "\n",
    "def run_perceptron_config(train_df_N, val_df_N, version = 'simple', max_iterations = math.inf):\n",
    "    \"\"\"\n",
    "    Runs the percetron algorithms as specified by the config parameters passes\n",
    "    version = 'simple' runs the normal perceptron algorithm\n",
    "    version = 'averaged' runs the averaged perceptron algorithm\n",
    "    max_iterations controls the max number of iterations the algorithms run for to avoid overfitting\n",
    "    Returns weights, mistakes, iterations and validation error\n",
    "    \"\"\"\n",
    "    \n",
    "    print('running {} perceptron'.format(version))\n",
    "    weights_N, num_mistakes_N, num_iterations_N = perceptron_train(train_df_N, max_iterations) \\\n",
    "    if version == 'simple' else averaged_perceptron_train(train_df_N)\n",
    "    validation_error_N = perceptron_test(weights_N, val_df_N)\n",
    "    \n",
    "    print(\"num_mistakes = \" + str(num_mistakes_N))\n",
    "    print(\"num_iterations = \" + str(num_iterations_N))\n",
    "    print(\"validation_error = \" + str(validation_error_N))\n",
    "    print(\"\\n\")\n",
    "    \n",
    "    return weights_N, num_mistakes_N, num_iterations_N, validation_error_N\n",
    "\n",
    "\n",
    "for N in NUM_TRAIN_SAMPLES_LIST:\n",
    "    print(\"processing iteration \" + str(N) + \"...\")\n",
    "    train_data_N, val_data_N = train_val_split_sequential(SPAM_TRAIN_FILE_PATH, N / TOTAL_TRAIN_SAMPLES)\n",
    "    train_df_N, vocab_keys_N = transform_text_to_features(train_data_N)\n",
    "    val_df_N, _ = transform_text_to_features(val_data_N, vocab_keys_N)\n",
    "    \n",
    "    weights_N, num_mistakes_N, num_iterations_N, validation_error_N = \\\n",
    "    run_perceptron_config(train_df_N, val_df_N, 'simple', math.inf)\n",
    "    num_iterations_list.append(num_iterations_N)\n",
    "    \n",
    "    weights_N, num_mistakes_N, num_iterations_N, validation_error_N = \\\n",
    "    run_perceptron_config(train_df_N, val_df_N, 'averaged', math.inf)\n",
    "    num_iterations_list_avg.append(num_iterations_N)\n",
    "    print(\"------------------------------------------------------------------------------------------\")\n",
    "    print(\"\\n\")"
   ]
  },
  {
   "cell_type": "code",
   "execution_count": 44,
   "metadata": {},
   "outputs": [
    {
     "data": {
      "text/plain": [
       "Text(0, 0.5, 'validation error')"
      ]
     },
     "execution_count": 44,
     "metadata": {},
     "output_type": "execute_result"
    },
    {
     "data": {
      "image/png": "[encoded data removed]",
      "text/plain": [
       "<Figure size 792x504 with 1 Axes>"
      ]
     },
     "metadata": {
      "needs_background": "light"
     },
     "output_type": "display_data"
    }
   ],
   "source": [
    "\n",
    "fig, ax = plt.subplots(figsize = (11, 7))\n",
    "\n",
    "ax.plot(NUM_ITERATION_LIST, validation_error_list, color = 'blue', label = 'simple perceptron')\n",
    "ax.plot(NUM_ITERATION_LIST, validation_error_list_avg, color = 'red', label = 'averaged perceptron')\n",
    "ax.legend()\n",
    "plt.xlabel('number of iterations')\n",
    "plt.ylabel('validation error')\n"
   ]
  },
  {
   "cell_type": "code",
   "execution_count": 54,
   "metadata": {},
   "outputs": [
    {
     "data": {
      "text/plain": [
       "Text(0, 0.5, 'validation error')"
      ]
     },
     "execution_count": 54,
     "metadata": {},
     "output_type": "execute_result"
    },
    {
     "data": {
      "image/png": "[encoded data removed]",
      "text/plain": [
       "<Figure size 792x504 with 1 Axes>"
      ]
     },
     "metadata": {
      "needs_background": "light"
     },
     "output_type": "display_data"
    }
   ],
   "source": [
    "############### QUESTION 8 ###############\n",
    "\n",
    "fig, ax = plt.subplots(figsize = (11, 7))\n",
    "\n",
    "ax.plot(NUM_ITERATION_LIST, num_iterations_list, color = 'blue', label = 'simple perceptron')\n",
    "ax.plot(NUM_ITERATION_LIST, num_iterations_list_avg, color = 'red', label = 'averaged perceptron')\n",
    "ax.legend()\n",
    "plt.xlabel('number of iterations')\n",
    "plt.ylabel('validation error')"
   ]
  },
  {
   "cell_type": "code",
   "execution_count": null,
   "metadata": {},
   "outputs": [],
   "source": [
    "############### QUESTION 9 ###############"
   ]
  }
 ],
 "metadata": {
  "kernelspec": {
   "display_name": "Python 3",
   "language": "python",
   "name": "python3"
  },
  "language_info": {
   "codemirror_mode": {
    "name": "ipython",
    "version": 3
   },
   "file_extension": ".py",
   "mimetype": "text/x-python",
   "name": "python",
   "nbconvert_exporter": "python",
   "pygments_lexer": "ipython3",
   "version": "3.7.3"
  }
 },
 "nbformat": 4,
 "nbformat_minor": 2
}
