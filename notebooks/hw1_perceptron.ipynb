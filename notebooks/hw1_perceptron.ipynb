{
 "cells": [
  {
   "cell_type": "markdown",
   "metadata": {},
   "source": [
    "#### Name: Nikhil Supekar <br>\n",
    "#### NetID: ns4486"
   ]
  },
  {
   "cell_type": "code",
   "execution_count": 1,
   "metadata": {},
   "outputs": [],
   "source": [
    "import sys\n",
    "import os\n",
    "import pandas as pd\n",
    "import numpy as np\n",
    "import math\n",
    "%matplotlib inline\n",
    "import matplotlib.pyplot as plt\n",
    "import timeit\n",
    "from IPython.display import clear_output"
   ]
  },
  {
   "cell_type": "code",
   "execution_count": 2,
   "metadata": {},
   "outputs": [],
   "source": [
    "CLASSES = ['0', '1']\n",
    "SPAM_TRAIN_FILE_PATH = '../data/email_spam/spam_train.txt'\n",
    "SPAM_TEST_FILE_PATH = '../data/email_spam/spam_test.txt'"
   ]
  },
  {
   "cell_type": "code",
   "execution_count": 3,
   "metadata": {},
   "outputs": [],
   "source": [
    "############### QUESTION 1 ###############\n",
    "\n",
    "def read_text_file(file_path):\n",
    "    \"\"\"Returns each line of file as a list of strings\"\"\"\n",
    "    \n",
    "    if not os.path.isfile(file_path):\n",
    "        print(\"File {} doesn't exist\".format(file_path))\n",
    "    \n",
    "    file_lines = []\n",
    "    \n",
    "    with open(file_path) as fp:\n",
    "        for line in fp:\n",
    "            file_lines.append(line)\n",
    "    \n",
    "    return file_lines\n",
    "\n",
    "\n",
    "def train_val_split_sequential(file_path, ratio):\n",
    "    \"\"\"\n",
    "    Splits a file into training and validation data by a specified ratio\n",
    "    Train-validation splits are returned as lists of string\n",
    "    \"\"\"\n",
    "    \n",
    "    data = read_text_file(file_path)\n",
    "    train_size = int(len(data) * ratio)\n",
    "    train_data = data[0:train_size]\n",
    "    val_data = data[train_size:]\n",
    "    \n",
    "    return (train_data, val_data)"
   ]
  },
  {
   "cell_type": "code",
   "execution_count": 4,
   "metadata": {},
   "outputs": [],
   "source": [
    "train_data, val_data = train_val_split_sequential(SPAM_TRAIN_FILE_PATH, 0.8)"
   ]
  },
  {
   "cell_type": "markdown",
   "metadata": {},
   "source": [
    "Creation of a validation set allows us to tune the hyperparameters of the model to increase the accuracy.\n",
    "This is something that cannot be done on the test set because ideally the test should should purely be used to report the final performance of the model. Using the test set while training can induce a bias in the model and the model may not generalize well beyond the given datasets."
   ]
  },
  {
   "cell_type": "code",
   "execution_count": 6,
   "metadata": {},
   "outputs": [],
   "source": [
    "############### QUESTION 2 ###############\n",
    "\n",
    "def build_vocab(data, threshold = 0):\n",
    "    \"\"\"\n",
    "    Takes input as a list of strings and returns a vocab of distinct words occurring in it.\n",
    "    Ignores all words occurring less than the threshold.\n",
    "    \"\"\"\n",
    "    \n",
    "    vocab = {}\n",
    "    \n",
    "    for line in data:\n",
    "        for word in set(line.split()):\n",
    "            vocab[word] = (1 if word not in vocab else (vocab[word] + 1))\n",
    "    \n",
    "    # remove the class names from vocab\n",
    "    for class_ in CLASSES:\n",
    "        vocab.pop(class_, None)\n",
    "    \n",
    "    # remove all keys with counts below a certain threshold\n",
    "    if threshold > 0:\n",
    "        for word in list(vocab.keys()):\n",
    "            if vocab[word] < threshold:\n",
    "                vocab.pop(word, None)\n",
    "    \n",
    "    return vocab\n",
    "\n",
    "\n",
    "def transform_doc_to_features(doc, vocab_keys):\n",
    "    \"\"\"\n",
    "    Transforms a single text document into a feature vector.\n",
    "    The vectorizer is a binary vectorizer i.e. the features takes value 1 if the word is\n",
    "        present in the text and 0 if the word is absent.\n",
    "    \"\"\"\n",
    "    \n",
    "    ret_list = []\n",
    "    doc_class = doc.split()[0]\n",
    "    doc_words = doc.split()[1:]\n",
    "    doc_words = set(doc_words)\n",
    "    ret_list.append(doc_class)\n",
    "    \n",
    "    for key in vocab_keys:\n",
    "        if key in doc_words:\n",
    "            ret_list.append(1)\n",
    "        else:\n",
    "            ret_list.append(0)\n",
    "    \n",
    "    return ret_list\n",
    "\n",
    "def transform_text_to_features(data, master_vocab_keys=[], vocab_threshold = 30):\n",
    "    \"\"\"\n",
    "    Transforms text data into feature vectors by building a dictionary if a dictionary is not provided.\n",
    "    The vectorizer is a binary vectorizer i.e. the features takes value 1 if the word is\n",
    "        present in the text and 0 if the word is absent.\n",
    "    Input is a list of strings.\n",
    "    Output is a dataframe of word features.\n",
    "    \"\"\"\n",
    "    \n",
    "    if len(master_vocab_keys) == 0:\n",
    "        vocab = build_vocab(data, vocab_threshold)\n",
    "        vocab_keys = list(vocab.keys())\n",
    "    else:\n",
    "        vocab_keys = master_vocab_keys\n",
    "    \n",
    "    vocab_keys.sort()\n",
    "    features = ['__target__']\n",
    "    features.extend(vocab_keys)\n",
    "    transformed_list = []\n",
    "    \n",
    "    for doc in data:\n",
    "        transformed_list.append(transform_doc_to_features(doc, vocab_keys))\n",
    "    \n",
    "    return pd.DataFrame(transformed_list, columns = features), vocab_keys"
   ]
  },
  {
   "cell_type": "code",
   "execution_count": 7,
   "metadata": {},
   "outputs": [],
   "source": [
    "train_df, vocab_keys = transform_text_to_features(train_data)\n",
    "val_df, _ = transform_text_to_features(val_data, vocab_keys)"
   ]
  },
  {
   "cell_type": "code",
   "execution_count": 13,
   "metadata": {},
   "outputs": [],
   "source": [
    "############### QUESTION 3 ###############\n",
    "\n",
    "def drop_zeros(data):\n",
    "    train_features = list(data.columns)\n",
    "    train_features.remove('__target__')\n",
    "    \n",
    "    for index, row in data.iterrows():\n",
    "        x = row[train_features].to_numpy()\n",
    "        if x.sum() == 0:\n",
    "            data.drop(index, inplace = True)\n",
    "    \n",
    "    return data\n",
    "\n",
    "def perceptron_train(data, max_iterations = math.inf):\n",
    "    \"\"\"\n",
    "    Trains a perceptron model on the input dataframe\n",
    "    \"\"\"\n",
    "    \n",
    "    num_features = len(data.columns)\n",
    "    w = np.zeros(num_features - 1)\n",
    "    num_iterations = 0\n",
    "    num_updates = 0\n",
    "    \n",
    "    train_features = list(data.columns)\n",
    "    train_features.remove('__target__')\n",
    "    \n",
    "    data = drop_zeros(data)\n",
    "    \n",
    "    error_flag = True\n",
    "    while error_flag and num_iterations < max_iterations:\n",
    "        error_flag = False\n",
    "        for index, row in data.iterrows():\n",
    "            y = int(row['__target__'])\n",
    "            y = y * 2 - 1\n",
    "            row_1 = row.drop('__target__')\n",
    "            x = row_1.to_numpy()\n",
    "            \n",
    "            if y * np.dot(w, x) <= 0:\n",
    "                w = w + y * x\n",
    "                error_flag = True\n",
    "                num_updates += 1\n",
    "        \n",
    "        num_iterations += 1\n",
    "    \n",
    "    return (w, num_updates, num_iterations)\n",
    "\n",
    "\n",
    "def perceptron_test(w, data):\n",
    "    \"\"\"\n",
    "    Tests a trained perceptron model with weights w on a dataset\n",
    "    Returns the test error [number of misclassified samples]\n",
    "    \"\"\"\n",
    "    \n",
    "    train_features = list(data.columns)\n",
    "    train_features.remove('__target__')\n",
    "    \n",
    "    test_error = 0\n",
    "    for index, row in data.iterrows():\n",
    "        y = int(row['__target__'])\n",
    "        x = row[train_features].to_numpy()\n",
    "        \n",
    "        if (y == 0 and np.dot(w, x) >= 0) or (y == 1 and np.dot(w, x) < 0):\n",
    "            test_error += 1\n",
    "    \n",
    "    test_error /= len(data.index)\n",
    "    \n",
    "    return test_error\n"
   ]
  },
  {
   "cell_type": "code",
   "execution_count": 14,
   "metadata": {
    "scrolled": true
   },
   "outputs": [
    {
     "name": "stdout",
     "output_type": "stream",
     "text": [
      "learning weights from the Perceptron Algorithm...\n",
      "number of mistakes by the Perceptron Algorithm while learning = 437\n",
      "\n",
      "checking the error on the training set...\n",
      "number of mistakes the training set after learning = 0.0\n",
      "\n",
      "testing the Perceptron Algorithm on the validation set...\n",
      "error on the validation set = 0.013\n",
      "\n"
     ]
    }
   ],
   "source": [
    "############### QUESTION 4 ###############\n",
    "\n",
    "print(\"learning weights from the Perceptron Algorithm...\")\n",
    "weights, num_mistakes, num_iterations = perceptron_train(train_df)\n",
    "print(\"number of mistakes by the Perceptron Algorithm while learning = {}\\n\".format(num_mistakes))\n",
    "\n",
    "print(\"checking the error on the training set...\")\n",
    "training_error = perceptron_test(weights, train_df)\n",
    "print(\"number of mistakes the training set after learning = {}\\n\".format(training_error))\n",
    "\n",
    "print(\"testing the Perceptron Algorithm on the validation set...\")\n",
    "validation_error = perceptron_test(weights, val_df)\n",
    "print(\"error on the validation set = {}\\n\".format(validation_error))"
   ]
  },
  {
   "cell_type": "code",
   "execution_count": 15,
   "metadata": {
    "scrolled": false
   },
   "outputs": [
    {
     "name": "stdout",
     "output_type": "stream",
     "text": [
      "features with the smallest weights\n",
      "-16.0\twrote\n",
      "-15.0\treserv\n",
      "-14.0\tprefer\n",
      "-13.0\tcopyright\n",
      "-12.0\ti\n",
      "-12.0\tstill\n",
      "-12.0\ttechnolog\n",
      "-11.0\tbut\n",
      "-11.0\tcomput\n",
      "-11.0\trecipi\n",
      "-11.0\tsometh\n",
      "-11.0\twhich\n",
      "-10.0\tcoupl\n",
      "-10.0\tdate\n",
      "-10.0\turl\n",
      "-9.0\texecut\n",
      "\n",
      "features with the largest weights\n",
      "22.0\tsight\n",
      "18.0\tclick\n",
      "16.0\tmarket\n",
      "16.0\tremov\n",
      "16.0\tthese\n",
      "15.0\tour\n",
      "14.0\tdeathtospamdeathtospamdeathtospam\n",
      "13.0\tmost\n",
      "12.0\tever\n",
      "12.0\tparti\n",
      "12.0\tpresent\n",
      "12.0\tyourself\n",
      "11.0\tam\n",
      "11.0\tbasenumb\n",
      "11.0\tbodi\n",
      "11.0\tcheck\n"
     ]
    }
   ],
   "source": [
    "############### QUESTION 5 ###############\n",
    "\n",
    "def get_top_dict_values(dict_, k, order = 0):\n",
    "    \"\"\"\n",
    "    Sorts a dict and returns the top k elems as a list of tuples (ordered by values)\n",
    "    order = 0 for ascending, order = 1 for descending\n",
    "    \"\"\"\n",
    "    \n",
    "    # map the order from {0, 1} to {-1, 1}\n",
    "    order = order * 2 - 1\n",
    "    \n",
    "    d = {k:v for k, v in sorted(dict_.items(), key = lambda item : -order*item[1])}\n",
    "    ret_list = []\n",
    "    for x in list(d)[0:(k + 1)]:\n",
    "        ret_list.append((x, d[x]))\n",
    "    \n",
    "    return ret_list\n",
    "\n",
    "def print_top_dict_values(dict_, k, order = 0):\n",
    "    \"\"\"\n",
    "    Prints the top k elems of the dictionary (ordered by values)\n",
    "    order = 0 for ascending, order = 1 for descending\n",
    "    \"\"\"\n",
    "    \n",
    "    for x in get_top_dict_values(dict_, k, order):\n",
    "        print(\"{}\\t{}\".format(x[1], x[0]))\n",
    "\n",
    "feature_weight_map = dict(zip(vocab_keys, weights))\n",
    "\n",
    "print(\"features with the smallest weights\")\n",
    "print_top_dict_values(feature_weight_map, 15, 0)\n",
    "\n",
    "print(\"\\nfeatures with the largest weights\")\n",
    "print_top_dict_values(feature_weight_map, 15, 1)\n",
    "\n"
   ]
  },
  {
   "cell_type": "code",
   "execution_count": 16,
   "metadata": {},
   "outputs": [],
   "source": [
    "############### QUESTION 6 ###############\n",
    "\n",
    "def averaged_perceptron_train(data, max_iterations = math.inf):\n",
    "    \"\"\"\n",
    "    Trains a perceptron model on the input dataframe\n",
    "    \"\"\"\n",
    "    \n",
    "    num_features = len(data.columns)\n",
    "    w = np.zeros(num_features - 1)\n",
    "    w_avg = np.zeros(num_features - 1)\n",
    "    num_iterations = 0\n",
    "    num_updates = 0\n",
    "    \n",
    "    train_features = list(data.columns)\n",
    "    train_features.remove('__target__')\n",
    "    \n",
    "    error_flag = True\n",
    "    while error_flag and num_iterations < max_iterations:\n",
    "        error_flag = False\n",
    "        for index, row in data.iterrows():\n",
    "            y = int(row['__target__'])\n",
    "            y = y * 2 - 1\n",
    "            x = row[train_features].to_numpy()\n",
    "            \n",
    "            if y * np.dot(w, x) <= 0:\n",
    "                w = w + y * x\n",
    "                error_flag = True\n",
    "                num_updates += 1\n",
    "            \n",
    "            w_avg = w_avg + w\n",
    "        \n",
    "        num_iterations += 1\n",
    "    \n",
    "    w_avg = w_avg / (len(data.index) * num_iterations)\n",
    "    \n",
    "    return (w_avg, num_updates, num_iterations)"
   ]
  },
  {
   "cell_type": "code",
   "execution_count": 17,
   "metadata": {},
   "outputs": [
    {
     "name": "stdout",
     "output_type": "stream",
     "text": [
      "processing iteration 100...\n",
      "running simple perceptron\n",
      "num_mistakes = 174\n",
      "num_iterations = 29\n",
      "validation_error = 0.1973469387755102\n",
      "\n",
      "\n",
      "running averaged perceptron\n",
      "num_mistakes = 174\n",
      "num_iterations = 29\n",
      "validation_error = 0.2010204081632653\n",
      "\n",
      "\n",
      "------------------------------------------------------------------------------------------\n",
      "\n",
      "\n",
      "processing iteration 200...\n",
      "running simple perceptron\n",
      "num_mistakes = 133\n",
      "num_iterations = 20\n",
      "validation_error = 0.08479166666666667\n",
      "\n",
      "\n",
      "running averaged perceptron\n",
      "num_mistakes = 133\n",
      "num_iterations = 20\n",
      "validation_error = 0.08291666666666667\n",
      "\n",
      "\n",
      "------------------------------------------------------------------------------------------\n",
      "\n",
      "\n",
      "processing iteration 400...\n",
      "running simple perceptron\n",
      "num_mistakes = 136\n",
      "num_iterations = 9\n",
      "validation_error = 0.058043478260869565\n",
      "\n",
      "\n",
      "running averaged perceptron\n",
      "num_mistakes = 136\n",
      "num_iterations = 9\n",
      "validation_error = 0.05608695652173913\n",
      "\n",
      "\n",
      "------------------------------------------------------------------------------------------\n",
      "\n",
      "\n",
      "processing iteration 800...\n",
      "running simple perceptron\n",
      "num_mistakes = 150\n",
      "num_iterations = 11\n",
      "validation_error = 0.04214285714285714\n",
      "\n",
      "\n",
      "running averaged perceptron\n",
      "num_mistakes = 150\n",
      "num_iterations = 11\n",
      "validation_error = 0.03833333333333333\n",
      "\n",
      "\n",
      "------------------------------------------------------------------------------------------\n",
      "\n",
      "\n",
      "processing iteration 2000...\n",
      "running simple perceptron\n",
      "num_mistakes = 288\n",
      "num_iterations = 12\n",
      "validation_error = 0.023\n",
      "\n",
      "\n",
      "running averaged perceptron\n",
      "num_mistakes = 288\n",
      "num_iterations = 12\n",
      "validation_error = 0.021333333333333333\n",
      "\n",
      "\n",
      "------------------------------------------------------------------------------------------\n",
      "\n",
      "\n",
      "processing iteration 4000...\n",
      "running simple perceptron\n",
      "num_mistakes = 437\n",
      "num_iterations = 11\n",
      "validation_error = 0.013\n",
      "\n",
      "\n",
      "running averaged perceptron\n",
      "num_mistakes = 437\n",
      "num_iterations = 11\n",
      "validation_error = 0.016\n",
      "\n",
      "\n",
      "------------------------------------------------------------------------------------------\n",
      "\n",
      "\n"
     ]
    }
   ],
   "source": [
    "############### QUESTION 7 ###############\n",
    "\n",
    "TOTAL_TRAIN_SAMPLES = 5000\n",
    "NUM_TRAIN_SAMPLES_LIST = [100, 200, 400, 800, 2000, 4000]\n",
    "\n",
    "validation_error_list = []\n",
    "validation_error_list_avg = []\n",
    "num_iterations_list = []\n",
    "num_iterations_list_avg = []\n",
    "\n",
    "\n",
    "def run_perceptron_config(train_df_N, val_df_N, version = 'simple', max_iterations = math.inf):\n",
    "    \"\"\"\n",
    "    Runs the percetron algorithms as specified by the config parameters passes\n",
    "    version = 'simple' runs the normal perceptron algorithm\n",
    "    version = 'averaged' runs the averaged perceptron algorithm\n",
    "    max_iterations controls the max number of iterations the algorithms run for to avoid overfitting\n",
    "    Returns weights, mistakes, iterations and validation error\n",
    "    \"\"\"\n",
    "    \n",
    "    print('running {} perceptron'.format(version))\n",
    "    weights_N, num_mistakes_N, num_iterations_N = perceptron_train(train_df_N, max_iterations) \\\n",
    "    if version == 'simple' else averaged_perceptron_train(train_df_N, max_iterations)\n",
    "    validation_error_N = perceptron_test(weights_N, val_df_N)\n",
    "    \n",
    "    print(\"num_mistakes = \" + str(num_mistakes_N))\n",
    "    print(\"num_iterations = \" + str(num_iterations_N))\n",
    "    print(\"validation_error = \" + str(validation_error_N))\n",
    "    print(\"\\n\")\n",
    "    \n",
    "    return weights_N, num_mistakes_N, num_iterations_N, validation_error_N\n",
    "\n",
    "\n",
    "for N in NUM_TRAIN_SAMPLES_LIST:\n",
    "    print(\"processing iteration \" + str(N) + \"...\")\n",
    "    train_data_N, val_data_N = train_val_split_sequential(SPAM_TRAIN_FILE_PATH, N / TOTAL_TRAIN_SAMPLES)\n",
    "    train_df_N, vocab_keys_N = transform_text_to_features(train_data_N)\n",
    "    val_df_N, _ = transform_text_to_features(val_data_N, vocab_keys_N)\n",
    "    \n",
    "    weights_N, num_mistakes_N, num_iterations_N, validation_error_N = \\\n",
    "    run_perceptron_config(train_df_N, val_df_N, 'simple', math.inf)\n",
    "    validation_error_list.append(validation_error_N)\n",
    "    num_iterations_list.append(num_iterations_N)\n",
    "    \n",
    "    weights_N, num_mistakes_N, num_iterations_N, validation_error_N = \\\n",
    "    run_perceptron_config(train_df_N, val_df_N, 'averaged', math.inf)\n",
    "    validation_error_list_avg.append(validation_error_N)\n",
    "    num_iterations_list_avg.append(num_iterations_N)\n",
    "    print(\"------------------------------------------------------------------------------------------\")\n",
    "    print(\"\\n\")"
   ]
  },
  {
   "cell_type": "code",
   "execution_count": 18,
   "metadata": {
    "scrolled": true
   },
   "outputs": [
    {
     "data": {
      "text/plain": [
       "Text(0, 0.5, 'validation error')"
      ]
     },
     "execution_count": 18,
     "metadata": {},
     "output_type": "execute_result"
    },
    {
     "data": {
      "image/png": "[encoded data removed]",
      "text/plain": [
       "<Figure size 792x504 with 1 Axes>"
      ]
     },
     "metadata": {
      "needs_background": "light"
     },
     "output_type": "display_data"
    }
   ],
   "source": [
    "\n",
    "fig, ax = plt.subplots(figsize = (11, 7))\n",
    "\n",
    "ax.plot(NUM_TRAIN_SAMPLES_LIST, validation_error_list, color = 'blue', label = 'simple perceptron')\n",
    "ax.plot(NUM_TRAIN_SAMPLES_LIST, validation_error_list_avg, color = 'red', label = 'averaged perceptron')\n",
    "ax.legend()\n",
    "plt.xlabel('number of iterations')\n",
    "plt.ylabel('validation error')\n"
   ]
  },
  {
   "cell_type": "code",
   "execution_count": 19,
   "metadata": {
    "scrolled": false
   },
   "outputs": [
    {
     "data": {
      "text/plain": [
       "Text(0, 0.5, 'validation error')"
      ]
     },
     "execution_count": 19,
     "metadata": {},
     "output_type": "execute_result"
    },
    {
     "data": {
      "image/png": "[encoded data removed]",
      "text/plain": [
       "<Figure size 792x504 with 1 Axes>"
      ]
     },
     "metadata": {
      "needs_background": "light"
     },
     "output_type": "display_data"
    }
   ],
   "source": [
    "############### QUESTION 8 ###############\n",
    "\n",
    "fig, ax = plt.subplots(figsize = (11, 7))\n",
    "\n",
    "ax.plot(NUM_TRAIN_SAMPLES_LIST, num_iterations_list, color = 'blue', label = 'simple perceptron')\n",
    "ax.plot(NUM_TRAIN_SAMPLES_LIST, num_iterations_list_avg, color = 'red', label = 'averaged perceptron')\n",
    "ax.legend()\n",
    "plt.xlabel('number of iterations')\n",
    "plt.ylabel('validation error')"
   ]
  },
  {
   "cell_type": "code",
   "execution_count": 20,
   "metadata": {},
   "outputs": [
    {
     "name": "stdout",
     "output_type": "stream",
     "text": [
      "running simple perceptron\n",
      "num_mistakes = 310\n",
      "num_iterations = 2\n",
      "validation_error = 0.023\n",
      "\n",
      "\n",
      "running simple perceptron\n",
      "num_mistakes = 364\n",
      "num_iterations = 3\n",
      "validation_error = 0.022\n",
      "\n",
      "\n",
      "running simple perceptron\n",
      "num_mistakes = 386\n",
      "num_iterations = 4\n",
      "validation_error = 0.019\n",
      "\n",
      "\n",
      "running simple perceptron\n",
      "num_mistakes = 412\n",
      "num_iterations = 5\n",
      "validation_error = 0.023\n",
      "\n",
      "\n",
      "running simple perceptron\n",
      "num_mistakes = 425\n",
      "num_iterations = 6\n",
      "validation_error = 0.017\n",
      "\n",
      "\n",
      "running simple perceptron\n",
      "num_mistakes = 428\n",
      "num_iterations = 7\n",
      "validation_error = 0.02\n",
      "\n",
      "\n",
      "running simple perceptron\n",
      "num_mistakes = 434\n",
      "num_iterations = 8\n",
      "validation_error = 0.02\n",
      "\n",
      "\n",
      "running simple perceptron\n",
      "num_mistakes = 436\n",
      "num_iterations = 9\n",
      "validation_error = 0.014\n",
      "\n",
      "\n",
      "running simple perceptron\n",
      "num_mistakes = 437\n",
      "num_iterations = 10\n",
      "validation_error = 0.013\n",
      "\n",
      "\n",
      "running averaged perceptron\n",
      "num_mistakes = 310\n",
      "num_iterations = 2\n",
      "validation_error = 0.02\n",
      "\n",
      "\n",
      "running averaged perceptron\n",
      "num_mistakes = 364\n",
      "num_iterations = 3\n",
      "validation_error = 0.016\n",
      "\n",
      "\n",
      "running averaged perceptron\n",
      "num_mistakes = 386\n",
      "num_iterations = 4\n",
      "validation_error = 0.016\n",
      "\n",
      "\n",
      "running averaged perceptron\n",
      "num_mistakes = 412\n",
      "num_iterations = 5\n",
      "validation_error = 0.016\n",
      "\n",
      "\n",
      "running averaged perceptron\n",
      "num_mistakes = 425\n",
      "num_iterations = 6\n",
      "validation_error = 0.015\n",
      "\n",
      "\n",
      "running averaged perceptron\n",
      "num_mistakes = 428\n",
      "num_iterations = 7\n",
      "validation_error = 0.013\n",
      "\n",
      "\n",
      "running averaged perceptron\n",
      "num_mistakes = 434\n",
      "num_iterations = 8\n",
      "validation_error = 0.014\n",
      "\n",
      "\n",
      "running averaged perceptron\n",
      "num_mistakes = 436\n",
      "num_iterations = 9\n",
      "validation_error = 0.016\n",
      "\n",
      "\n",
      "running averaged perceptron\n",
      "num_mistakes = 437\n",
      "num_iterations = 10\n",
      "validation_error = 0.017\n",
      "\n",
      "\n"
     ]
    }
   ],
   "source": [
    "############### QUESTION 9 ###############\n",
    "\n",
    "config_versions = ['simple', 'averaged']\n",
    "config_max_iterations = list(range(2, 11))\n",
    "\n",
    "train_data, val_data = train_val_split_sequential(SPAM_TRAIN_FILE_PATH, 4000 / TOTAL_TRAIN_SAMPLES)\n",
    "train_df_N, vocab_keys_N = transform_text_to_features(train_data_N)\n",
    "val_df_N, _ = transform_text_to_features(val_data_N, vocab_keys_N)\n",
    "\n",
    "perf_map = {}\n",
    "\n",
    "for version in config_versions:\n",
    "    for max_iterations in config_max_iterations:\n",
    "        _, _, _, validation_error = run_perceptron_config(train_df_N, val_df_N, version, max_iterations)\n",
    "        perf_map[(version, max_iterations)] = validation_error\n"
   ]
  },
  {
   "cell_type": "code",
   "execution_count": 22,
   "metadata": {},
   "outputs": [
    {
     "name": "stdout",
     "output_type": "stream",
     "text": [
      "{('simple', 2): 0.023, ('simple', 3): 0.022, ('simple', 4): 0.019, ('simple', 5): 0.023, ('simple', 6): 0.017, ('simple', 7): 0.02, ('simple', 8): 0.02, ('simple', 9): 0.014, ('simple', 10): 0.013, ('averaged', 2): 0.02, ('averaged', 3): 0.016, ('averaged', 4): 0.016, ('averaged', 5): 0.016, ('averaged', 6): 0.015, ('averaged', 7): 0.013, ('averaged', 8): 0.014, ('averaged', 9): 0.016, ('averaged', 10): 0.017}\n"
     ]
    }
   ],
   "source": [
    "print(perf_map)"
   ]
  },
  {
   "cell_type": "code",
   "execution_count": 23,
   "metadata": {},
   "outputs": [
    {
     "name": "stdout",
     "output_type": "stream",
     "text": [
      "0.013\t('simple', 10)\n",
      "0.013\t('averaged', 7)\n",
      "0.014\t('simple', 9)\n",
      "0.014\t('averaged', 8)\n",
      "0.015\t('averaged', 6)\n",
      "0.016\t('averaged', 3)\n"
     ]
    }
   ],
   "source": [
    "print_top_dict_values(perf_map, 5, 0)"
   ]
  },
  {
   "cell_type": "markdown",
   "metadata": {},
   "source": [
    "As seen above, the best performing config is found to be Averaged Perceptron with number of iterations set to 7 providing a validation error of 0.013."
   ]
  },
  {
   "cell_type": "code",
   "execution_count": 24,
   "metadata": {},
   "outputs": [
    {
     "name": "stdout",
     "output_type": "stream",
     "text": [
      "running averaged perceptron\n",
      "num_mistakes = 394\n",
      "num_iterations = 7\n",
      "validation_error = 0.015\n",
      "\n",
      "\n",
      "running averaged perceptron\n",
      "num_mistakes = 381\n",
      "num_iterations = 7\n",
      "validation_error = 0.017\n",
      "\n",
      "\n",
      "running averaged perceptron\n",
      "num_mistakes = 388\n",
      "num_iterations = 7\n",
      "validation_error = 0.016\n",
      "\n",
      "\n",
      "running averaged perceptron\n",
      "num_mistakes = 384\n",
      "num_iterations = 7\n",
      "validation_error = 0.016\n",
      "\n",
      "\n",
      "running averaged perceptron\n",
      "num_mistakes = 414\n",
      "num_iterations = 7\n",
      "validation_error = 0.017\n",
      "\n",
      "\n",
      "running averaged perceptron\n",
      "num_mistakes = 435\n",
      "num_iterations = 7\n",
      "validation_error = 0.013\n",
      "\n",
      "\n",
      "running averaged perceptron\n",
      "num_mistakes = 474\n",
      "num_iterations = 7\n",
      "validation_error = 0.017\n",
      "\n",
      "\n",
      "running averaged perceptron\n",
      "num_mistakes = 468\n",
      "num_iterations = 7\n",
      "validation_error = 0.018\n",
      "\n",
      "\n"
     ]
    }
   ],
   "source": [
    "############### QUESTION 10 ###############\n",
    "\n",
    "config_vocab_threshold = [5, 7, 10, 12, 20, 30, 40, 50]\n",
    "\n",
    "train_data, val_data = train_val_split_sequential(SPAM_TRAIN_FILE_PATH, 4000 / TOTAL_TRAIN_SAMPLES)\n",
    "\n",
    "perf_map = {}\n",
    "\n",
    "for vocab_threshold in config_vocab_threshold:\n",
    "    train_df, vocab_keys = transform_text_to_features(train_data, [], vocab_threshold)\n",
    "    val_df, _ = transform_text_to_features(val_data, vocab_keys, vocab_threshold)\n",
    "\n",
    "    _, _, _, validation_error = run_perceptron_config(train_df, val_df, 'averaged', 7)\n",
    "    perf_map[(vocab_threshold, 'averaged', 7)] = validation_error\n"
   ]
  },
  {
   "cell_type": "code",
   "execution_count": 25,
   "metadata": {
    "scrolled": true
   },
   "outputs": [
    {
     "name": "stdout",
     "output_type": "stream",
     "text": [
      "0.013\t(30, 'averaged', 7)\n",
      "0.015\t(5, 'averaged', 7)\n",
      "0.016\t(10, 'averaged', 7)\n",
      "0.016\t(12, 'averaged', 7)\n",
      "0.017\t(7, 'averaged', 7)\n",
      "0.017\t(20, 'averaged', 7)\n"
     ]
    }
   ],
   "source": [
    "print_top_dict_values(perf_map, 5, 0)"
   ]
  },
  {
   "cell_type": "markdown",
   "metadata": {},
   "source": [
    "As seen above, the best model performance (0.012) is obtained for the configuration:<br>\n",
    "X = 30<br>\n",
    "model = averaged perceptron<br>\n",
    "max_iterations = 7"
   ]
  },
  {
   "cell_type": "code",
   "execution_count": 11,
   "metadata": {},
   "outputs": [],
   "source": [
    "############### QUESTION 11 ###############\n",
    "train_data = read_text_file(SPAM_TRAIN_FILE_PATH)\n",
    "test_data = read_text_file(SPAM_TEST_FILE_PATH)\n",
    "\n",
    "train_df, vocab_keys = transform_text_to_features(train_data, [], 30)\n",
    "test_df, _ = transform_text_to_features(test_data, vocab_keys, 30)\n",
    "\n",
    "# weights, num_mistakes, num_iterations, validation_error = \\\n",
    "# run_perceptron_config(train_df, test_df, 'averaged', 7)"
   ]
  },
  {
   "cell_type": "code",
   "execution_count": 13,
   "metadata": {},
   "outputs": [
    {
     "data": {
      "text/plain": [
       "(1000, 2770)"
      ]
     },
     "execution_count": 13,
     "metadata": {},
     "output_type": "execute_result"
    }
   ],
   "source": [
    "test_df.shape"
   ]
  },
  {
   "cell_type": "markdown",
   "metadata": {},
   "source": [
    "The testing error observed on the test set is 0.017"
   ]
  },
  {
   "cell_type": "code",
   "execution_count": null,
   "metadata": {},
   "outputs": [],
   "source": []
  }
 ],
 "metadata": {
  "kernelspec": {
   "display_name": "Python 3",
   "language": "python",
   "name": "python3"
  },
  "language_info": {
   "codemirror_mode": {
    "name": "ipython",
    "version": 3
   },
   "file_extension": ".py",
   "mimetype": "text/x-python",
   "name": "python",
   "nbconvert_exporter": "python",
   "pygments_lexer": "ipython3",
   "version": "3.7.3"
  }
 },
 "nbformat": 4,
 "nbformat_minor": 2
}
