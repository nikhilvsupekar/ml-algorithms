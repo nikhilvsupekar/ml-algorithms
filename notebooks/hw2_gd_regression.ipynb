{
 "cells": [
  {
   "cell_type": "markdown",
   "metadata": {},
   "source": [
    "Name: Nikhil Supekar <br>\n",
    "NetID: ns4486"
   ]
  },
  {
   "cell_type": "code",
   "execution_count": 2,
   "metadata": {},
   "outputs": [],
   "source": [
    "import sys\n",
    "import numpy as np\n",
    "import pandas as pd\n",
    "import matplotlib.pyplot as plt\n",
    "from sklearn.model_selection import train_test_split"
   ]
  },
  {
   "cell_type": "code",
   "execution_count": 3,
   "metadata": {},
   "outputs": [],
   "source": [
    "INPUT_FILE_PATH = '../data/ridge_regression/ridge_regression_dataset.csv'"
   ]
  },
  {
   "cell_type": "markdown",
   "metadata": {},
   "source": [
    "$$\n",
    "\\begin{aligned}\n",
    "E[\\| x \\|^2] & = E[\\sum_{i=1}^{n} x_i^2] \\\\\n",
    "& = \\sum_{i=1}^{n} E[x_i^2] \\\\\n",
    "& = \\sum_{i=1}^{n} \\sum_{j=1, y_j\\in Range(x_i)}^{5} y_j^2 p(y_j) \\\\\n",
    "& = \\sum_{i=1}^{n} (-2)^2 \\frac{1}{5} + (-1)^2 \\frac{1}{5} + (-0)^2 \\frac{1}{5} + (1)^2 \\frac{1}{5} + (2)^2 \\frac{1}{5} \\\\\n",
    "& = \\sum_{i=1}^{n} 2 \\\\\n",
    "& = 2n\n",
    "\\end{aligned}\n",
    "$$"
   ]
  },
  {
   "cell_type": "markdown",
   "metadata": {},
   "source": [
    "$$\n",
    "\\begin{aligned}\n",
    "E[\\|x\\|_{\\infty}] & = E[max_{i} |x_i|] \\\\\n",
    "& = E[|x_{max}|] \\\\\n",
    "& = |-2| \\frac{1}{5} + |-1| \\frac{1}{5} + |0| \\frac{1}{5} + |1| \\frac{1}{5} + |2| \\frac{1}{5} \\\\\n",
    "& = \\frac{6}{5}\n",
    "\\end{aligned}\n",
    "$$"
   ]
  },
  {
   "cell_type": "markdown",
   "metadata": {},
   "source": [
    "$$\n",
    "\\begin{aligned}\n",
    "Cov(\\overrightarrow{x}) & = [Cov(x_i, x_j)]_{ij} \\\\\n",
    "& = [0] \\text{if}\\ i \\neq j \\text{(since $x_i$ are iid)}\\\\\n",
    "&   [Var(x_i) \\text{otherwise}] \\\\\n",
    "& = [0] \\text{if}\\ i \\neq j \\\\\n",
    "&   2 \\\\\n",
    "& = 2 I_n\n",
    "\\end{aligned}\n",
    "$$"
   ]
  },
  {
   "cell_type": "markdown",
   "metadata": {},
   "source": [
    "$$\n",
    "\\begin{aligned}\n",
    "E[(a - y)^2]& = E[(a - E[y] + E[y] - y)^2] \\\\\n",
    "& = E[(a - E[y])^2] + E[(E[y] - y)^2] + E[2(a - E[y])(E[y] - y)] \\\\\n",
    "& = E[(a - E[y])^2] + E[(E[y] - y)^2] + 2 E[(a - E[y])(E[y] - y)] \\\\\n",
    "& = E[(a - E[y])^2] + E[(E[y] - y)^2] + 2 E[E[(a - E[y])(E[y] - y) \\mid y]] \\\\\n",
    "& = E[(a - E[y])^2] + E[(E[y] - y)^2] + 2 E[E[a E[y] - a y - E[y]^2 + E[y] y] \\mid y]] \\\\\n",
    "& = E[(a - E[y])^2] + E[(E[y] - y)^2] + 2 E[E[a E[y] \\mid y] - E[a y \\mid y] - E[E[y]^2 \\mid y] + E[E[y] y \\mid y]] \\\\\n",
    "& = E[(a - E[y])^2] + E[(E[y] - y)^2] + 2 E[E[y \\mid y] E[a \\mid y] - y E[a \\mid y] - E[y]^2 + E[y]^2]] \\\\\n",
    "& = E[(a - E[y])^2] + E[(E[y] - y)^2] + 2 E[y E[a \\mid y] - y E[a \\mid y] + 0] \\\\\n",
    "& = E[(a - E[y])^2] + E[(E[y] - y)^2] + 2 E[0] \\\\\n",
    "& = E[(a - E[y])^2] + E[(E[y] - y)^2] \\\\\n",
    "\\end{aligned}\n",
    "$$\n",
    "\n",
    "$$\n",
    "\\begin{aligned}\n",
    "(a - E[y])^2 \\geq 0 & \\Rightarrow E[(a - E[y])^2] \\geq 0 \\\\\n",
    "& \\Rightarrow E[(a - E[y])^2] + E[(E[y] - y)^2] \\geq E[(E[y] - y)^2] \\\\\n",
    "& \\Rightarrow E[(a - y)^2] \\geq E[(E[y] - y)^2] \\\\\n",
    "\\end{aligned}\n",
    "$$\n",
    "\n",
    "$$\n",
    "\\begin{aligned}\n",
    "E[(a - y)^2] = E[(E[y] - y)^2] & \\Leftrightarrow E[(a - E[y])^2] = 0 \\\\\n",
    "& \\Leftrightarrow a = E[y] \\\\\n",
    "\\end{aligned}\n",
    "$$\n",
    "\n",
    "$$\n",
    "min_{a}(E[(a - y)^2]) = E[(E[y] - y)^2] \\\\\n",
    "argmin_{a}(E[(a - y)^2]) = E[y]\\\\\n",
    "$$"
   ]
  },
  {
   "cell_type": "markdown",
   "metadata": {},
   "source": [
    "$$\n",
    "\\begin{align}\n",
    "E[(a - y)^2 \\mid x] & = E[(a - E[y \\mid x] + E[y \\mid x] - y)^2 \\mid x] \\\\\n",
    "& = E[(a - E[y \\mid x])^2 + (E[y \\mid x] - y)^2 + 2(a - E[y \\mid x])(E[y \\mid x] - y) \\mid x] \\\\\n",
    "& = E[(a - E[y \\mid x])^2 \\mid x] + E[(E[y \\mid x] - y)^2 \\mid x] + 2 E[(a - E[y \\mid x])(E[y \\mid x] - y) \\mid x] \\\\\n",
    "& = E[(a - E[y \\mid x])^2 \\mid x] + E[(E[y \\mid x] - y)^2 \\mid x] + 2 E[a E[y \\mid x] - a y - E[y \\mid x]^2 + E[y \\mid x] y \\mid x] \\\\\n",
    "& = E[(a - E[y \\mid x])^2 \\mid x] + E[(E[y \\mid x] - y)^2 \\mid x] + 2 (E[a E[y \\mid x] \\mid x] - E[a y \\mid x] - E[E[y \\mid x]^2 \\mid x] + E[E[y \\mid x] y \\mid x]) \\\\\n",
    "& = E[(a - E[y \\mid x])^2 \\mid x] + E[(E[y \\mid x] - y)^2 \\mid x] + 2 (E[E[y \\mid x] E[a \\mid x] - a E[y \\mid x] - E[y \\mid x]^2 + E[y \\mid x]^2]) \\\\\n",
    "& = E[(a - E[y \\mid x])^2 \\mid x] + E[(E[y \\mid x] - y)^2 \\mid x] + 2 (0) \\\\\n",
    "& = E[(a - E[y \\mid x])^2 \\mid x] + E[(E[y \\mid x] - y)^2 \\mid x] \\\\\n",
    "\\end{align}\n",
    "$$\n",
    "\n",
    "$$\n",
    "\\begin{align}\n",
    "(a - E[y \\mid x])^2 \\geq 0 & \\Rightarrow E[(a - E[y \\mid x])^2 \\mid x] \\geq 0\\\\\n",
    "& \\Rightarrow E[(a - E[y \\mid x])^2 \\mid x] + E[(E[y \\mid x] - y)^2 \\mid x] \\geq E[(E[y \\mid x] - y)^2 \\mid x]\\\\\n",
    "& \\Rightarrow E[(a - y)^2 \\mid x] \\geq E[(E[y \\mid x] - y)^2 \\mid x] \\\\\n",
    "\\end{align}\n",
    "$$\n",
    "\n",
    "$$\n",
    "\\begin{align}\n",
    "E[(a - y)^2 \\mid x] = E[(E[y \\mid x] - y)^2 \\mid x] & \\Leftrightarrow E[(a - E[y \\mid x])^2 \\mid x] = 0 \\\\\n",
    "& \\Leftrightarrow a - E[y \\mid x] = 0 \\\\\n",
    "& \\Leftrightarrow a = E[y \\mid x] \\\\\n",
    "& \\Leftrightarrow f(x) = E[y \\mid x] \\\\\n",
    "& \\Rightarrow f^{*}(x) = E[y \\mid x] \\\\\n",
    "\\end{align}\n",
    "$$"
   ]
  },
  {
   "cell_type": "code",
   "execution_count": 4,
   "metadata": {},
   "outputs": [],
   "source": [
    "### Feature normalization\n",
    "def feature_normalization(train, test):\n",
    "    \"\"\"Rescale the data so that each feature in the training set is in\n",
    "    the interval [0,1], and apply the same transformations to the test\n",
    "    set, using the statistics computed on the training set.\n",
    "\n",
    "    Args:\n",
    "        train - training set, a 2D numpy array of size (num_instances, num_features)\n",
    "        test - test set, a 2D numpy array of size (num_instances, num_features)\n",
    "\n",
    "    Returns:\n",
    "        train_normalized - training set after normalization\n",
    "        test_normalized - test set after normalization\n",
    "    \"\"\"\n",
    "    num_instances = train.shape[0]\n",
    "    num_features = train.shape[1]\n",
    "    \n",
    "    mean_vec = np.apply_along_axis(np.mean, 0, train)\n",
    "    std_vec = np.apply_along_axis(np.std, 0, train)\n",
    "    \n",
    "    const_feature_indices = np.where(std_vec == 0)\n",
    "    train = np.delete(train, const_feature_indices, 1)\n",
    "    test = np.delete(test, const_feature_indices, 1)\n",
    "    mean_vec = np.delete(mean_vec, const_feature_indices, 0)\n",
    "    std_vec = np.delete(mean_vec, const_feature_indices, 0)\n",
    "    \n",
    "    train_normalized = (train - mean_vec) / std_vec\n",
    "    test_normalized = (test - mean_vec) / std_vec\n",
    "    \n",
    "    return train_normalized, test_normalized"
   ]
  },
  {
   "cell_type": "markdown",
   "metadata": {},
   "source": [
    "$$\n",
    "J(\\theta) = \\frac{1}{m} \\|X \\theta - y\\|^2\n",
    "$$"
   ]
  },
  {
   "cell_type": "markdown",
   "metadata": {},
   "source": [
    "$$\n",
    "\\nabla J(\\theta) = \\frac{2}{m} X^{T}(X \\theta - y)\n",
    "$$"
   ]
  },
  {
   "cell_type": "markdown",
   "metadata": {},
   "source": [
    "$$\n",
    "\\begin{align}\n",
    "J(\\theta + \\eta h) - J(\\theta) & = \\eta h \\nabla J(\\theta) \\\\\n",
    "& = \\frac{2 \\eta h}{m} X^{T} (X \\theta - y) \\\\\n",
    "\\end{align}\n",
    "$$"
   ]
  },
  {
   "cell_type": "markdown",
   "metadata": {},
   "source": [
    "$$\n",
    "\\begin{align}\n",
    "\\theta_{i+1} & = \\theta_{i} - \\eta \\nabla J(\\theta_{i}) \\\\\n",
    "& = \\theta_{i} - \\frac{2 \\eta}{m} X^{T} (X \\theta - y) \\\\\n",
    "\\end{align}\n",
    "$$"
   ]
  },
  {
   "cell_type": "code",
   "execution_count": 5,
   "metadata": {},
   "outputs": [],
   "source": [
    "def compute_square_loss(X, y, theta):\n",
    "    \"\"\"\n",
    "    Given a set of X, y, theta, compute the average square loss for predicting y with X*theta.\n",
    "\n",
    "    Args:\n",
    "        X - the feature vector, 2D numpy array of size (num_instances, num_features)\n",
    "        y - the label vector, 1D numpy array of size (num_instances)\n",
    "        theta - the parameter vector, 1D array of size (num_features)\n",
    "\n",
    "    Returns:\n",
    "        loss - the average square loss, scalar\n",
    "    \"\"\"\n",
    "    m = X.shape[0]\n",
    "    return np.linalg.norm(np.dot(X, theta) - y) / m\n"
   ]
  },
  {
   "cell_type": "code",
   "execution_count": 6,
   "metadata": {},
   "outputs": [],
   "source": [
    "def compute_square_loss_gradient(X, y, theta):\n",
    "    \"\"\"\n",
    "    Compute the gradient of the average square loss (as defined in compute_square_loss), at the point theta.\n",
    "\n",
    "    Args:\n",
    "        X - the feature vector, 2D numpy array of size (num_instances, num_features)\n",
    "        y - the label vector, 1D numpy array of size (num_instances)\n",
    "        theta - the parameter vector, 1D numpy array of size (num_features)\n",
    "\n",
    "    Returns:\n",
    "        grad - gradient vector, 1D numpy array of size (num_features)\n",
    "    \"\"\"\n",
    "    m = X.shape[0]\n",
    "    return np.transpose(X).dot(np.dot(X, theta) - y) * 2 / m"
   ]
  },
  {
   "cell_type": "code",
   "execution_count": 7,
   "metadata": {},
   "outputs": [],
   "source": [
    "#######################################\n",
    "### Gradient checker\n",
    "#Getting the gradient calculation correct is often the trickiest part\n",
    "#of any gradient-based optimization algorithm. Fortunately, it's very\n",
    "#easy to check that the gradient calculation is correct using the\n",
    "#definition of gradient.\n",
    "#See http://ufldl.stanford.edu/wiki/index.php/Gradient_checking_and_advanced_optimization\n",
    "def grad_checker(X, y, theta, epsilon=0.01, tolerance=1e-4):\n",
    "    \"\"\"Implement Gradient Checker\n",
    "    Check that the function compute_square_loss_gradient returns the\n",
    "    correct gradient for the given X, y, and theta.\n",
    "\n",
    "    Let d be the number of features. Here we numerically estimate the\n",
    "    gradient by approximating the directional derivative in each of\n",
    "    the d coordinate directions:\n",
    "    (e_1 = (1,0,0,...,0), e_2 = (0,1,0,...,0), ..., e_d = (0,...,0,1))\n",
    "\n",
    "    The approximation for the directional derivative of J at the point\n",
    "    theta in the direction e_i is given by:\n",
    "    ( J(theta + epsilon * e_i) - J(theta - epsilon * e_i) ) / (2*epsilon).\n",
    "\n",
    "    We then look at the Euclidean distance between the gradient\n",
    "    computed using this approximation and the gradient computed by\n",
    "    compute_square_loss_gradient(X, y, theta).  If the Euclidean\n",
    "    distance exceeds tolerance, we say the gradient is incorrect.\n",
    "\n",
    "    Args:\n",
    "        X - the feature vector, 2D numpy array of size (num_instances, num_features)\n",
    "        y - the label vector, 1D numpy array of size (num_instances)\n",
    "        theta - the parameter vector, 1D numpy array of size (num_features)\n",
    "        epsilon - the epsilon used in approximation\n",
    "        tolerance - the tolerance error\n",
    "\n",
    "    Return:\n",
    "        A boolean value indicating whether the gradient is correct or not\n",
    "    \"\"\"\n",
    "    true_gradient = compute_square_loss_gradient(X, y, theta) #The true gradient\n",
    "    num_features = theta.shape[0]\n",
    "    approx_grad = np.zeros(num_features) #Initialize the gradient we approximate\n",
    "    \n",
    "    J = compute_square_loss\n",
    "    \n",
    "    for i in range(num_features):\n",
    "        approx_grad[i] = (J(theta + epsilon * np.eye(1, num_features, i)) - J(theta - epsilon * np.eye(1, num_features, i))) / (2 * epsilon)\n",
    "    \n",
    "    return np.linalg.norm(approx_grad, true_gradient) <= tolerance"
   ]
  },
  {
   "cell_type": "code",
   "execution_count": 8,
   "metadata": {},
   "outputs": [],
   "source": [
    "def generic_gradient_checker(X, y, theta, objective_func, gradient_func, epsilon=0.01, tolerance=1e-4):\n",
    "    \"\"\"\n",
    "    The functions takes objective_func and gradient_func as parameters. \n",
    "    And check whether gradient_func(X, y, theta) returned the true \n",
    "    gradient for objective_func(X, y, theta).\n",
    "    Eg: In LSR, the objective_func = compute_square_loss, and gradient_func = compute_square_loss_gradient\n",
    "    \"\"\"\n",
    "    true_gradient = gradient_func(X, y, theta) #The true gradient\n",
    "    num_features = theta.shape[0]\n",
    "    approx_grad = np.zeros(num_features) #Initialize the gradient we approximate\n",
    "    \n",
    "    J = objective_func\n",
    "    \n",
    "    for i in range(num_features):\n",
    "        approx_grad[i] = (J(theta + epsilon * np.eye(1, num_features, i)) - J(theta - epsilon * np.eye(1, num_features, i))) / (2 * epsilon)\n",
    "    \n",
    "    return np.linalg.norm(approx_grad, true_gradient) <= tolerance"
   ]
  },
  {
   "cell_type": "code",
   "execution_count": 9,
   "metadata": {},
   "outputs": [],
   "source": [
    "#######################################\n",
    "### Batch gradient descent\n",
    "def batch_grad_descent(X, y, alpha=0.1, num_step=1000, grad_check=False):\n",
    "    \"\"\"\n",
    "    In this question you will implement batch gradient descent to\n",
    "    minimize the average square loss objective.\n",
    "\n",
    "    Args:\n",
    "        X - the feature vector, 2D numpy array of size (num_instances, num_features)\n",
    "        y - the label vector, 1D numpy array of size (num_instances)\n",
    "        alpha - step size in gradient descent\n",
    "        num_step - number of steps to run\n",
    "        grad_check - a boolean value indicating whether checking the gradient when updating\n",
    "\n",
    "    Returns:\n",
    "        theta_hist - the history of parameter vector, 2D numpy array of size (num_step+1, num_features)\n",
    "                     for instance, theta in step 0 should be theta_hist[0], theta in step (num_step) is theta_hist[-1]\n",
    "        loss_hist - the history of average square loss on the data, 1D numpy array, (num_step+1)\n",
    "    \"\"\"\n",
    "    num_instances, num_features = X.shape[0], X.shape[1]\n",
    "    theta_hist = np.zeros((num_step+1, num_features)) #Initialize theta_hist\n",
    "    loss_hist = np.zeros(num_step+1) #Initialize loss_hist\n",
    "    theta = np.zeros(num_features) #Initialize theta\n",
    "    \n",
    "    for i in range(1, num_step + 1):\n",
    "        theta = theta_hist[i - 1, :] - alpha * compute_square_loss_gradient(X, y, theta_hist[i - 1, :])\n",
    "        theta_hist[i, :] = theta\n",
    "        loss_hist[i] = compute_square_loss(X, y, theta)\n",
    "    \n",
    "    return theta_hist, loss_hist"
   ]
  },
  {
   "cell_type": "code",
   "execution_count": 10,
   "metadata": {},
   "outputs": [
    {
     "name": "stdout",
     "output_type": "stream",
     "text": "Split into Train and Test\nScaling all to [0, 1]\n"
    }
   ],
   "source": [
    "\n",
    "df = pd.read_csv(INPUT_FILE_PATH, delimiter=',')\n",
    "X = df.values[:,:-1]\n",
    "y = df.values[:,-1]\n",
    "\n",
    "print('Split into Train and Test')\n",
    "X_train, X_test, y_train, y_test = train_test_split(X, y, test_size =100, random_state=10)\n",
    "\n",
    "print(\"Scaling all to [0, 1]\")\n",
    "X_train, X_test = feature_normalization(X_train, X_test)\n",
    "X_train = np.hstack((X_train, np.ones((X_train.shape[0], 1))))  # Add bias term\n",
    "X_test = np.hstack((X_test, np.ones((X_test.shape[0], 1))))  # Add bias term"
   ]
  },
  {
   "cell_type": "code",
   "execution_count": 27,
   "metadata": {},
   "outputs": [
    {
     "data": {
      "text/plain": "[<matplotlib.lines.Line2D at 0x1a1bf3a320>]"
     },
     "execution_count": 27,
     "metadata": {},
     "output_type": "execute_result"
    },
    {
     "data": {
      "image/png": "[encoded data removed]",
      "image/svg+xml": "<?xml version=\"1.0\" encoding=\"utf-8\" standalone=\"no\"?>\n<!DOCTYPE svg PUBLIC \"-//W3C//DTD SVG 1.1//EN\"\n  \"http://www.w3.org/Graphics/SVG/1.1/DTD/svg11.dtd\">\n<!-- Created with matplotlib (https://matplotlib.org/) -->\n<svg height=\"248.518125pt\" version=\"1.1\" viewBox=\"0 0 384.828125 248.518125\" width=\"384.828125pt\" xmlns=\"http://www.w3.org/2000/svg\" xmlns:xlink=\"http://www.w3.org/1999/xlink\">\n <defs>\n  <style type=\"text/css\">\n*{stroke-linecap:butt;stroke-linejoin:round;white-space:pre;}\n  </style>\n </defs>\n <g id=\"figure_1\">\n  <g id=\"patch_1\">\n   <path d=\"M 0 248.518125 \nL 384.828125 248.518125 \nL 384.828125 0 \nL 0 0 \nz\n\" style=\"fill:none;\"/>\n  </g>\n  <g id=\"axes_1\">\n   <g id=\"patch_2\">\n    <path d=\"M 42.828125 224.64 \nL 377.628125 224.64 \nL 377.628125 7.2 \nL 42.828125 7.2 \nz\n\" style=\"fill:#ffffff;\"/>\n   </g>\n   <g id=\"matplotlib.axis_1\">\n    <g id=\"xtick_1\">\n     <g id=\"line2d_1\">\n      <defs>\n       <path d=\"M 0 0 \nL 0 3.5 \n\" id=\"me317c9dc7f\" style=\"stroke:#000000;stroke-width:0.8;\"/>\n      </defs>\n      <g>\n       <use style=\"stroke:#000000;stroke-width:0.8;\" x=\"80.128846\" xlink:href=\"#me317c9dc7f\" y=\"224.64\"/>\n      </g>\n     </g>\n     <g id=\"text_1\">\n      <!-- 0.006 -->\n      <defs>\n       <path d=\"M 31.78125 66.40625 \nQ 24.171875 66.40625 20.328125 58.90625 \nQ 16.5 51.421875 16.5 36.375 \nQ 16.5 21.390625 20.328125 13.890625 \nQ 24.171875 6.390625 31.78125 6.390625 \nQ 39.453125 6.390625 43.28125 13.890625 \nQ 47.125 21.390625 47.125 36.375 \nQ 47.125 51.421875 43.28125 58.90625 \nQ 39.453125 66.40625 31.78125 66.40625 \nz\nM 31.78125 74.21875 \nQ 44.046875 74.21875 50.515625 64.515625 \nQ 56.984375 54.828125 56.984375 36.375 \nQ 56.984375 17.96875 50.515625 8.265625 \nQ 44.046875 -1.421875 31.78125 -1.421875 \nQ 19.53125 -1.421875 13.0625 8.265625 \nQ 6.59375 17.96875 6.59375 36.375 \nQ 6.59375 54.828125 13.0625 64.515625 \nQ 19.53125 74.21875 31.78125 74.21875 \nz\n\" id=\"DejaVuSans-48\"/>\n       <path d=\"M 10.6875 12.40625 \nL 21 12.40625 \nL 21 0 \nL 10.6875 0 \nz\n\" id=\"DejaVuSans-46\"/>\n       <path d=\"M 33.015625 40.375 \nQ 26.375 40.375 22.484375 35.828125 \nQ 18.609375 31.296875 18.609375 23.390625 \nQ 18.609375 15.53125 22.484375 10.953125 \nQ 26.375 6.390625 33.015625 6.390625 \nQ 39.65625 6.390625 43.53125 10.953125 \nQ 47.40625 15.53125 47.40625 23.390625 \nQ 47.40625 31.296875 43.53125 35.828125 \nQ 39.65625 40.375 33.015625 40.375 \nz\nM 52.59375 71.296875 \nL 52.59375 62.3125 \nQ 48.875 64.0625 45.09375 64.984375 \nQ 41.3125 65.921875 37.59375 65.921875 \nQ 27.828125 65.921875 22.671875 59.328125 \nQ 17.53125 52.734375 16.796875 39.40625 \nQ 19.671875 43.65625 24.015625 45.921875 \nQ 28.375 48.1875 33.59375 48.1875 \nQ 44.578125 48.1875 50.953125 41.515625 \nQ 57.328125 34.859375 57.328125 23.390625 \nQ 57.328125 12.15625 50.6875 5.359375 \nQ 44.046875 -1.421875 33.015625 -1.421875 \nQ 20.359375 -1.421875 13.671875 8.265625 \nQ 6.984375 17.96875 6.984375 36.375 \nQ 6.984375 53.65625 15.1875 63.9375 \nQ 23.390625 74.21875 37.203125 74.21875 \nQ 40.921875 74.21875 44.703125 73.484375 \nQ 48.484375 72.75 52.59375 71.296875 \nz\n\" id=\"DejaVuSans-54\"/>\n      </defs>\n      <g transform=\"translate(65.814783 239.238438)scale(0.1 -0.1)\">\n       <use xlink:href=\"#DejaVuSans-48\"/>\n       <use x=\"63.623047\" xlink:href=\"#DejaVuSans-46\"/>\n       <use x=\"95.410156\" xlink:href=\"#DejaVuSans-48\"/>\n       <use x=\"159.033203\" xlink:href=\"#DejaVuSans-48\"/>\n       <use x=\"222.65625\" xlink:href=\"#DejaVuSans-54\"/>\n      </g>\n     </g>\n    </g>\n    <g id=\"xtick_2\">\n     <g id=\"line2d_2\">\n      <g>\n       <use style=\"stroke:#000000;stroke-width:0.8;\" x=\"124.293924\" xlink:href=\"#me317c9dc7f\" y=\"224.64\"/>\n      </g>\n     </g>\n     <g id=\"text_2\">\n      <!-- 0.008 -->\n      <defs>\n       <path d=\"M 31.78125 34.625 \nQ 24.75 34.625 20.71875 30.859375 \nQ 16.703125 27.09375 16.703125 20.515625 \nQ 16.703125 13.921875 20.71875 10.15625 \nQ 24.75 6.390625 31.78125 6.390625 \nQ 38.8125 6.390625 42.859375 10.171875 \nQ 46.921875 13.96875 46.921875 20.515625 \nQ 46.921875 27.09375 42.890625 30.859375 \nQ 38.875 34.625 31.78125 34.625 \nz\nM 21.921875 38.8125 \nQ 15.578125 40.375 12.03125 44.71875 \nQ 8.5 49.078125 8.5 55.328125 \nQ 8.5 64.0625 14.71875 69.140625 \nQ 20.953125 74.21875 31.78125 74.21875 \nQ 42.671875 74.21875 48.875 69.140625 \nQ 55.078125 64.0625 55.078125 55.328125 \nQ 55.078125 49.078125 51.53125 44.71875 \nQ 48 40.375 41.703125 38.8125 \nQ 48.828125 37.15625 52.796875 32.3125 \nQ 56.78125 27.484375 56.78125 20.515625 \nQ 56.78125 9.90625 50.3125 4.234375 \nQ 43.84375 -1.421875 31.78125 -1.421875 \nQ 19.734375 -1.421875 13.25 4.234375 \nQ 6.78125 9.90625 6.78125 20.515625 \nQ 6.78125 27.484375 10.78125 32.3125 \nQ 14.796875 37.15625 21.921875 38.8125 \nz\nM 18.3125 54.390625 \nQ 18.3125 48.734375 21.84375 45.5625 \nQ 25.390625 42.390625 31.78125 42.390625 \nQ 38.140625 42.390625 41.71875 45.5625 \nQ 45.3125 48.734375 45.3125 54.390625 \nQ 45.3125 60.0625 41.71875 63.234375 \nQ 38.140625 66.40625 31.78125 66.40625 \nQ 25.390625 66.40625 21.84375 63.234375 \nQ 18.3125 60.0625 18.3125 54.390625 \nz\n\" id=\"DejaVuSans-56\"/>\n      </defs>\n      <g transform=\"translate(109.979862 239.238438)scale(0.1 -0.1)\">\n       <use xlink:href=\"#DejaVuSans-48\"/>\n       <use x=\"63.623047\" xlink:href=\"#DejaVuSans-46\"/>\n       <use x=\"95.410156\" xlink:href=\"#DejaVuSans-48\"/>\n       <use x=\"159.033203\" xlink:href=\"#DejaVuSans-48\"/>\n       <use x=\"222.65625\" xlink:href=\"#DejaVuSans-56\"/>\n      </g>\n     </g>\n    </g>\n    <g id=\"xtick_3\">\n     <g id=\"line2d_3\">\n      <g>\n       <use style=\"stroke:#000000;stroke-width:0.8;\" x=\"168.459002\" xlink:href=\"#me317c9dc7f\" y=\"224.64\"/>\n      </g>\n     </g>\n     <g id=\"text_3\">\n      <!-- 0.010 -->\n      <defs>\n       <path d=\"M 12.40625 8.296875 \nL 28.515625 8.296875 \nL 28.515625 63.921875 \nL 10.984375 60.40625 \nL 10.984375 69.390625 \nL 28.421875 72.90625 \nL 38.28125 72.90625 \nL 38.28125 8.296875 \nL 54.390625 8.296875 \nL 54.390625 0 \nL 12.40625 0 \nz\n\" id=\"DejaVuSans-49\"/>\n      </defs>\n      <g transform=\"translate(154.14494 239.238438)scale(0.1 -0.1)\">\n       <use xlink:href=\"#DejaVuSans-48\"/>\n       <use x=\"63.623047\" xlink:href=\"#DejaVuSans-46\"/>\n       <use x=\"95.410156\" xlink:href=\"#DejaVuSans-48\"/>\n       <use x=\"159.033203\" xlink:href=\"#DejaVuSans-49\"/>\n       <use x=\"222.65625\" xlink:href=\"#DejaVuSans-48\"/>\n      </g>\n     </g>\n    </g>\n    <g id=\"xtick_4\">\n     <g id=\"line2d_4\">\n      <g>\n       <use style=\"stroke:#000000;stroke-width:0.8;\" x=\"212.62408\" xlink:href=\"#me317c9dc7f\" y=\"224.64\"/>\n      </g>\n     </g>\n     <g id=\"text_4\">\n      <!-- 0.012 -->\n      <defs>\n       <path d=\"M 19.1875 8.296875 \nL 53.609375 8.296875 \nL 53.609375 0 \nL 7.328125 0 \nL 7.328125 8.296875 \nQ 12.9375 14.109375 22.625 23.890625 \nQ 32.328125 33.6875 34.8125 36.53125 \nQ 39.546875 41.84375 41.421875 45.53125 \nQ 43.3125 49.21875 43.3125 52.78125 \nQ 43.3125 58.59375 39.234375 62.25 \nQ 35.15625 65.921875 28.609375 65.921875 \nQ 23.96875 65.921875 18.8125 64.3125 \nQ 13.671875 62.703125 7.8125 59.421875 \nL 7.8125 69.390625 \nQ 13.765625 71.78125 18.9375 73 \nQ 24.125 74.21875 28.421875 74.21875 \nQ 39.75 74.21875 46.484375 68.546875 \nQ 53.21875 62.890625 53.21875 53.421875 \nQ 53.21875 48.921875 51.53125 44.890625 \nQ 49.859375 40.875 45.40625 35.40625 \nQ 44.1875 33.984375 37.640625 27.21875 \nQ 31.109375 20.453125 19.1875 8.296875 \nz\n\" id=\"DejaVuSans-50\"/>\n      </defs>\n      <g transform=\"translate(198.310018 239.238438)scale(0.1 -0.1)\">\n       <use xlink:href=\"#DejaVuSans-48\"/>\n       <use x=\"63.623047\" xlink:href=\"#DejaVuSans-46\"/>\n       <use x=\"95.410156\" xlink:href=\"#DejaVuSans-48\"/>\n       <use x=\"159.033203\" xlink:href=\"#DejaVuSans-49\"/>\n       <use x=\"222.65625\" xlink:href=\"#DejaVuSans-50\"/>\n      </g>\n     </g>\n    </g>\n    <g id=\"xtick_5\">\n     <g id=\"line2d_5\">\n      <g>\n       <use style=\"stroke:#000000;stroke-width:0.8;\" x=\"256.789159\" xlink:href=\"#me317c9dc7f\" y=\"224.64\"/>\n      </g>\n     </g>\n     <g id=\"text_5\">\n      <!-- 0.014 -->\n      <defs>\n       <path d=\"M 37.796875 64.3125 \nL 12.890625 25.390625 \nL 37.796875 25.390625 \nz\nM 35.203125 72.90625 \nL 47.609375 72.90625 \nL 47.609375 25.390625 \nL 58.015625 25.390625 \nL 58.015625 17.1875 \nL 47.609375 17.1875 \nL 47.609375 0 \nL 37.796875 0 \nL 37.796875 17.1875 \nL 4.890625 17.1875 \nL 4.890625 26.703125 \nz\n\" id=\"DejaVuSans-52\"/>\n      </defs>\n      <g transform=\"translate(242.475096 239.238438)scale(0.1 -0.1)\">\n       <use xlink:href=\"#DejaVuSans-48\"/>\n       <use x=\"63.623047\" xlink:href=\"#DejaVuSans-46\"/>\n       <use x=\"95.410156\" xlink:href=\"#DejaVuSans-48\"/>\n       <use x=\"159.033203\" xlink:href=\"#DejaVuSans-49\"/>\n       <use x=\"222.65625\" xlink:href=\"#DejaVuSans-52\"/>\n      </g>\n     </g>\n    </g>\n    <g id=\"xtick_6\">\n     <g id=\"line2d_6\">\n      <g>\n       <use style=\"stroke:#000000;stroke-width:0.8;\" x=\"300.954237\" xlink:href=\"#me317c9dc7f\" y=\"224.64\"/>\n      </g>\n     </g>\n     <g id=\"text_6\">\n      <!-- 0.016 -->\n      <g transform=\"translate(286.640174 239.238438)scale(0.1 -0.1)\">\n       <use xlink:href=\"#DejaVuSans-48\"/>\n       <use x=\"63.623047\" xlink:href=\"#DejaVuSans-46\"/>\n       <use x=\"95.410156\" xlink:href=\"#DejaVuSans-48\"/>\n       <use x=\"159.033203\" xlink:href=\"#DejaVuSans-49\"/>\n       <use x=\"222.65625\" xlink:href=\"#DejaVuSans-54\"/>\n      </g>\n     </g>\n    </g>\n    <g id=\"xtick_7\">\n     <g id=\"line2d_7\">\n      <g>\n       <use style=\"stroke:#000000;stroke-width:0.8;\" x=\"345.119315\" xlink:href=\"#me317c9dc7f\" y=\"224.64\"/>\n      </g>\n     </g>\n     <g id=\"text_7\">\n      <!-- 0.018 -->\n      <g transform=\"translate(330.805253 239.238438)scale(0.1 -0.1)\">\n       <use xlink:href=\"#DejaVuSans-48\"/>\n       <use x=\"63.623047\" xlink:href=\"#DejaVuSans-46\"/>\n       <use x=\"95.410156\" xlink:href=\"#DejaVuSans-48\"/>\n       <use x=\"159.033203\" xlink:href=\"#DejaVuSans-49\"/>\n       <use x=\"222.65625\" xlink:href=\"#DejaVuSans-56\"/>\n      </g>\n     </g>\n    </g>\n   </g>\n   <g id=\"matplotlib.axis_2\">\n    <g id=\"ytick_1\">\n     <g id=\"line2d_8\">\n      <defs>\n       <path d=\"M 0 0 \nL -3.5 0 \n\" id=\"m6284f3c665\" style=\"stroke:#000000;stroke-width:0.8;\"/>\n      </defs>\n      <g>\n       <use style=\"stroke:#000000;stroke-width:0.8;\" x=\"42.828125\" xlink:href=\"#m6284f3c665\" y=\"178.510996\"/>\n      </g>\n     </g>\n     <g id=\"text_8\">\n      <!-- 0.160 -->\n      <g transform=\"translate(7.2 182.310215)scale(0.1 -0.1)\">\n       <use xlink:href=\"#DejaVuSans-48\"/>\n       <use x=\"63.623047\" xlink:href=\"#DejaVuSans-46\"/>\n       <use x=\"95.410156\" xlink:href=\"#DejaVuSans-49\"/>\n       <use x=\"159.033203\" xlink:href=\"#DejaVuSans-54\"/>\n       <use x=\"222.65625\" xlink:href=\"#DejaVuSans-48\"/>\n      </g>\n     </g>\n    </g>\n    <g id=\"ytick_2\">\n     <g id=\"line2d_9\">\n      <g>\n       <use style=\"stroke:#000000;stroke-width:0.8;\" x=\"42.828125\" xlink:href=\"#m6284f3c665\" y=\"130.376495\"/>\n      </g>\n     </g>\n     <g id=\"text_9\">\n      <!-- 0.165 -->\n      <defs>\n       <path d=\"M 10.796875 72.90625 \nL 49.515625 72.90625 \nL 49.515625 64.59375 \nL 19.828125 64.59375 \nL 19.828125 46.734375 \nQ 21.96875 47.46875 24.109375 47.828125 \nQ 26.265625 48.1875 28.421875 48.1875 \nQ 40.625 48.1875 47.75 41.5 \nQ 54.890625 34.8125 54.890625 23.390625 \nQ 54.890625 11.625 47.5625 5.09375 \nQ 40.234375 -1.421875 26.90625 -1.421875 \nQ 22.3125 -1.421875 17.546875 -0.640625 \nQ 12.796875 0.140625 7.71875 1.703125 \nL 7.71875 11.625 \nQ 12.109375 9.234375 16.796875 8.0625 \nQ 21.484375 6.890625 26.703125 6.890625 \nQ 35.15625 6.890625 40.078125 11.328125 \nQ 45.015625 15.765625 45.015625 23.390625 \nQ 45.015625 31 40.078125 35.4375 \nQ 35.15625 39.890625 26.703125 39.890625 \nQ 22.75 39.890625 18.8125 39.015625 \nQ 14.890625 38.140625 10.796875 36.28125 \nz\n\" id=\"DejaVuSans-53\"/>\n      </defs>\n      <g transform=\"translate(7.2 134.175714)scale(0.1 -0.1)\">\n       <use xlink:href=\"#DejaVuSans-48\"/>\n       <use x=\"63.623047\" xlink:href=\"#DejaVuSans-46\"/>\n       <use x=\"95.410156\" xlink:href=\"#DejaVuSans-49\"/>\n       <use x=\"159.033203\" xlink:href=\"#DejaVuSans-54\"/>\n       <use x=\"222.65625\" xlink:href=\"#DejaVuSans-53\"/>\n      </g>\n     </g>\n    </g>\n    <g id=\"ytick_3\">\n     <g id=\"line2d_10\">\n      <g>\n       <use style=\"stroke:#000000;stroke-width:0.8;\" x=\"42.828125\" xlink:href=\"#m6284f3c665\" y=\"82.241994\"/>\n      </g>\n     </g>\n     <g id=\"text_10\">\n      <!-- 0.170 -->\n      <defs>\n       <path d=\"M 8.203125 72.90625 \nL 55.078125 72.90625 \nL 55.078125 68.703125 \nL 28.609375 0 \nL 18.3125 0 \nL 43.21875 64.59375 \nL 8.203125 64.59375 \nz\n\" id=\"DejaVuSans-55\"/>\n      </defs>\n      <g transform=\"translate(7.2 86.041213)scale(0.1 -0.1)\">\n       <use xlink:href=\"#DejaVuSans-48\"/>\n       <use x=\"63.623047\" xlink:href=\"#DejaVuSans-46\"/>\n       <use x=\"95.410156\" xlink:href=\"#DejaVuSans-49\"/>\n       <use x=\"159.033203\" xlink:href=\"#DejaVuSans-55\"/>\n       <use x=\"222.65625\" xlink:href=\"#DejaVuSans-48\"/>\n      </g>\n     </g>\n    </g>\n    <g id=\"ytick_4\">\n     <g id=\"line2d_11\">\n      <g>\n       <use style=\"stroke:#000000;stroke-width:0.8;\" x=\"42.828125\" xlink:href=\"#m6284f3c665\" y=\"34.107493\"/>\n      </g>\n     </g>\n     <g id=\"text_11\">\n      <!-- 0.175 -->\n      <g transform=\"translate(7.2 37.906712)scale(0.1 -0.1)\">\n       <use xlink:href=\"#DejaVuSans-48\"/>\n       <use x=\"63.623047\" xlink:href=\"#DejaVuSans-46\"/>\n       <use x=\"95.410156\" xlink:href=\"#DejaVuSans-49\"/>\n       <use x=\"159.033203\" xlink:href=\"#DejaVuSans-55\"/>\n       <use x=\"222.65625\" xlink:href=\"#DejaVuSans-53\"/>\n      </g>\n     </g>\n    </g>\n   </g>\n   <g id=\"line2d_12\">\n    <path clip-path=\"url(#p54160e4ea6)\" d=\"M 58.046307 17.083636 \nL 102.211385 77.453791 \nL 146.376463 118.581775 \nL 168.459002 134.764665 \nL 345.119315 212.525698 \nL 356.160585 214.756364 \nL 361.460394 205.63826 \nL 361.902045 191.940777 \nL 362.012457 183.229105 \nL 362.409943 41.130934 \n\" style=\"fill:none;stroke:#1f77b4;stroke-linecap:square;stroke-width:1.5;\"/>\n   </g>\n   <g id=\"patch_3\">\n    <path d=\"M 42.828125 224.64 \nL 42.828125 7.2 \n\" style=\"fill:none;stroke:#000000;stroke-linecap:square;stroke-linejoin:miter;stroke-width:0.8;\"/>\n   </g>\n   <g id=\"patch_4\">\n    <path d=\"M 377.628125 224.64 \nL 377.628125 7.2 \n\" style=\"fill:none;stroke:#000000;stroke-linecap:square;stroke-linejoin:miter;stroke-width:0.8;\"/>\n   </g>\n   <g id=\"patch_5\">\n    <path d=\"M 42.828125 224.64 \nL 377.628125 224.64 \n\" style=\"fill:none;stroke:#000000;stroke-linecap:square;stroke-linejoin:miter;stroke-width:0.8;\"/>\n   </g>\n   <g id=\"patch_6\">\n    <path d=\"M 42.828125 7.2 \nL 377.628125 7.2 \n\" style=\"fill:none;stroke:#000000;stroke-linecap:square;stroke-linejoin:miter;stroke-width:0.8;\"/>\n   </g>\n  </g>\n </g>\n <defs>\n  <clipPath id=\"p54160e4ea6\">\n   <rect height=\"217.44\" width=\"334.8\" x=\"42.828125\" y=\"7.2\"/>\n  </clipPath>\n </defs>\n</svg>\n",
      "text/plain": "<Figure size 432x288 with 1 Axes>"
     },
     "metadata": {
      "needs_background": "light"
     },
     "output_type": "display_data"
    }
   ],
   "source": [
    "STEP_SIZES = [0.005, 0.007, 0.009, 0.01, 0.018, 0.0185, 0.01874, 0.01876, 0.018765, 0.018783]\n",
    "avg_loss = []\n",
    "for alpha in STEP_SIZES:\n",
    "    theta, loss = batch_grad_descent(X_train, y_train, alpha)\n",
    "    avg_loss.append(np.mean(loss))\n",
    "# mean_vec = np.apply_along_axis(np.mean, 0, train).reshape(num_instances, 1)\n",
    "# std_vec = np.apply_along_axis(np.std, 0, train).reshape(num_instances, 1)\n",
    "plt.plot(STEP_SIZES, avg_loss)"
   ]
  },
  {
   "cell_type": "markdown",
   "metadata": {},
   "source": [
    "$$\n",
    "J(\\theta) = \\frac{1}{m} \\|X \\theta - y\\|^2 + \\lambda \\theta^T \\theta\n",
    "$$"
   ]
  },
  {
   "cell_type": "markdown",
   "metadata": {},
   "source": [
    "$$\n",
    "\\begin{align}\n",
    "\\nabla J(\\theta) & = \\frac{2}{m} X^{T}(X \\theta - y) + 2 \\lambda \\theta \\\\\n",
    "\\end{align}\n",
    "$$"
   ]
  },
  {
   "cell_type": "markdown",
   "metadata": {},
   "source": [
    "$$\n",
    "\\begin{align}\n",
    "\\theta_{i+1} & = \\theta_{i} - \\eta \\nabla J(\\theta_{i}) \\\\\n",
    "& = \\theta_{i} - \\frac{2 \\eta}{m} X^{T} (X \\theta - y) - 2 \\lambda \\eta \\theta \\\\\n",
    "\\end{align}\n",
    "$$"
   ]
  },
  {
   "cell_type": "code",
   "execution_count": 80,
   "metadata": {},
   "outputs": [],
   "source": [
    "#######################################\n",
    "### The gradient of regularized batch gradient descent\n",
    "def compute_regularized_square_loss_gradient(X, y, theta, lambda_reg):\n",
    "    \"\"\"\n",
    "    Compute the gradient of L2-regularized average square loss function given X, y and theta\n",
    "\n",
    "    Args:\n",
    "        X - the feature vector, 2D numpy array of size (num_instances, num_features)\n",
    "        y - the label vector, 1D numpy array of size (num_instances)\n",
    "        theta - the parameter vector, 1D numpy array of size (num_features)\n",
    "        lambda_reg - the regularization coefficient\n",
    "\n",
    "    Returns:\n",
    "        grad - gradient vector, 1D numpy array of size (num_features)\n",
    "    \"\"\"\n",
    "    m = X.shape[0]\n",
    "    return np.transpose(X).dot(np.dot(X, theta) - y) * 2 / m + 2 * lambda_reg * theta"
   ]
  },
  {
   "cell_type": "code",
   "execution_count": 81,
   "metadata": {},
   "outputs": [],
   "source": [
    "#######################################\n",
    "### Regularized batch gradient descent\n",
    "def regularized_grad_descent(X, y, alpha=0.05, lambda_reg=10**-2, num_step=1000):\n",
    "    \"\"\"\n",
    "    Args:\n",
    "        X - the feature vector, 2D numpy array of size (num_instances, num_features)\n",
    "        y - the label vector, 1D numpy array of size (num_instances)\n",
    "        alpha - step size in gradient descent\n",
    "        lambda_reg - the regularization coefficient\n",
    "        num_step - number of steps to run\n",
    "    \n",
    "    Returns:\n",
    "        theta_hist - the history of parameter vector, 2D numpy array of size (num_step+1, num_features)\n",
    "                     for instance, theta in step 0 should be theta_hist[0], theta in step (num_step+1) is theta_hist[-1]\n",
    "        loss hist - the history of average square loss function without the regularization term, 1D numpy array.\n",
    "    \"\"\"\n",
    "    num_instances, num_features = X.shape[0], X.shape[1]\n",
    "    theta = np.zeros(num_features) #Initialize theta\n",
    "    theta_hist = np.zeros((num_step+1, num_features)) #Initialize theta_hist\n",
    "    loss_hist = np.zeros(num_step+1) #Initialize loss_hist\n",
    "    \n",
    "    for i in range(1, num_step + 1):\n",
    "        theta_prev = theta_hist[i - 1, :]\n",
    "        theta = theta_prev - alpha * compute_regularized_square_loss_gradient(X, y, theta_prev) - 2 * alpha * lambda_reg * theta_prev\n",
    "        theta_hist[i, :] = theta\n",
    "        loss_hist[i] = compute_square_loss(X, y, theta)\n",
    "    \n",
    "    return theta_hist, loss_hist"
   ]
  },
  {
   "cell_type": "markdown",
   "metadata": {},
   "source": [
    "The loss function for ridge regression with a bias B can be expressed as follows:\n",
    "$$\n",
    "\\begin{align}\n",
    "J(\\theta) & = \\frac{1}{m} \\sum_{i = 1}^{m} (h_{\\theta}(x_i) - y_i)^2 + \\lambda \\theta^T \\theta \\\\\n",
    "& = \\frac{1}{m} ((\\theta_1 x_i^{(1)} - y_1)^2 + ... + (\\theta_n x_i^{(n)} - y_n)^2 + m \\lambda (\\theta_1^2 + ... + \\theta_n^2))\\\\\n",
    "& = \\frac{1}{m} ((\\theta_1 B - y_1)^2 + m \\lambda \\theta_1^2 + g(\\theta_2, ..., \\theta_n)) \\\\\n",
    "& = \\frac{1}{m} ((B^2 + m \\lambda) \\theta_1^2 - 2 B y_1 \\theta_1 + y_1^2 + g(\\theta_2, ..., \\theta_n)) \\\\\n",
    "\\end{align}\n",
    "$$\n",
    "\n",
    "Regularization tries to prevent overfitting by adding a penalty to the loss function by adding quadratic terms to optimization. <br>\n",
    "This ensures that the weights are distributed over the squared $\\theta$ terms.<br>\n",
    "With a high bias term, the co-efficient against $\\theta_1$ is already high, so more of the weight distribution will happen on the other $\\theta$ terms. <br>\n",
    "This reduces the effect of regularization on the bias term which can be made as small as possible by increasing B. This works because of the quadratic effect of B on the penalization as seen in the final equation above. <br>\n",
    "Although the regularization can be made arbitrarily small, theoretically it can never be made zero since there will always be some non-zero weight assigned by the regularization to the bias term."
   ]
  },
  {
   "cell_type": "code",
   "execution_count": null,
   "metadata": {},
   "outputs": [],
   "source": []
  }
 ],
 "metadata": {
  "kernelspec": {
   "display_name": "Python 3",
   "language": "python",
   "name": "python3"
  },
  "language_info": {
   "codemirror_mode": {
    "name": "ipython",
    "version": 3
   },
   "file_extension": ".py",
   "mimetype": "text/x-python",
   "name": "python",
   "nbconvert_exporter": "python",
   "pygments_lexer": "ipython3",
   "version": "3.7.3-final"
  }
 },
 "nbformat": 4,
 "nbformat_minor": 2
}