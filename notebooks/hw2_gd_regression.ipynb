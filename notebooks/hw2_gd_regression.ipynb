{
 "cells": [
  {
   "cell_type": "markdown",
   "metadata": {},
   "source": [
    "Name: Nikhil Supekar\n",
    "NetID: ns4486"
   ]
  },
  {
   "cell_type": "markdown",
   "metadata": {},
   "source": [
    "$$\n",
    "\\begin{aligned}\n",
    "E[\\| x \\|^2] & = E[\\sum_{i=1}^{n} x_i^2] \\\\\n",
    "& = \\sum_{i=1}^{n} E[x_i^2] \\\\\n",
    "& = \\sum_{i=1}^{n} \\sum_{j=1, y_j\\in Range(x_i)}^{5} y_j^2 p(y_j) \\\\\n",
    "& = \\sum_{i=1}^{n} (-2)^2 \\frac{1}{5} + (-1)^2 \\frac{1}{5} + (-0)^2 \\frac{1}{5} + (1)^2 \\frac{1}{5} + (2)^2 \\frac{1}{5} \\\\\n",
    "& = \\sum_{i=1}^{n} 2 \\\\\n",
    "& = 2n\n",
    "\\end{aligned}\n",
    "$$"
   ]
  },
  {
   "cell_type": "markdown",
   "metadata": {},
   "source": [
    "$$\n",
    "\\begin{aligned}\n",
    "E[\\|x\\|_{\\infty}] & = E[max_{i} |x_i|] \\\\\n",
    "& = E[|x_{max}|] \\\\\n",
    "& = |-2| \\frac{1}{5} + |-1| \\frac{1}{5} + |0| \\frac{1}{5} + |1| \\frac{1}{5} + |2| \\frac{1}{5} \\\\\n",
    "& = \\frac{6}{5}\n",
    "\\end{aligned}\n",
    "$$"
   ]
  },
  {
   "cell_type": "markdown",
   "metadata": {},
   "source": [
    "$$\n",
    "\\begin{aligned}\n",
    "Cov(\\overrightarrow{x}) & = [Cov(x_i, x_j)]_{ij} \\\\\n",
    "& = [0] \\text{if}\\ i \\neq j \\text{(since $x_i$ are iid)}\\\\\n",
    "&   [Var(x_i) \\text{otherwise}] \\\\\n",
    "& = [0] \\text{if}\\ i \\neq j \\\\\n",
    "&   2 \\\\\n",
    "& = 2 I_n\n",
    "\\end{aligned}\n",
    "$$"
   ]
  },
  {
   "cell_type": "markdown",
   "metadata": {},
   "source": [
    "$$\n",
    "\\begin{aligned}\n",
    "E[(a - y)^2]& = E[(a - E[y] + E[y] - y)^2] \\\\\n",
    "& = E[(a - E[y])^2] + E[(E[y] - y)^2] + E[2(a - E[y])(E[y] - y)] \\\\\n",
    "& = E[(a - E[y])^2] + E[(E[y] - y)^2] + 2 E[(a - E[y])(E[y] - y)] \\\\\n",
    "& = E[(a - E[y])^2] + E[(E[y] - y)^2] + 2 E[E[(a - E[y])(E[y] - y) \\mid y]] \\\\\n",
    "& = E[(a - E[y])^2] + E[(E[y] - y)^2] + 2 E[E[a E[y] - a y - E[y]^2 + E[y] y] \\mid y]] \\\\\n",
    "& = E[(a - E[y])^2] + E[(E[y] - y)^2] + 2 E[E[a E[y] \\mid y] - E[a y \\mid y] - E[E[y]^2 \\mid y] + E[E[y] y \\mid y]] \\\\\n",
    "& = E[(a - E[y])^2] + E[(E[y] - y)^2] + 2 E[E[y \\mid y] E[a \\mid y] - y E[a \\mid y] - E[y]^2 + E[y]^2]] \\\\\n",
    "& = E[(a - E[y])^2] + E[(E[y] - y)^2] + 2 E[y E[a \\mid y] - y E[a \\mid y] + 0] \\\\\n",
    "& = E[(a - E[y])^2] + E[(E[y] - y)^2] + 2 E[0] \\\\\n",
    "& = E[(a - E[y])^2] + E[(E[y] - y)^2] \\\\\n",
    "\\end{aligned}\n",
    "$$\n",
    "\n",
    "$$\n",
    "\\begin{aligned}\n",
    "(a - E[y])^2 \\geq 0 & \\Rightarrow E[(a - E[y])^2] \\geq 0 \\\\\n",
    "& \\Rightarrow E[(a - E[y])^2] + E[(E[y] - y)^2] \\geq E[(E[y] - y)^2] \\\\\n",
    "& \\Rightarrow E[(a - y)^2] \\geq E[(E[y] - y)^2] \\\\\n",
    "\\end{aligned}\n",
    "$$\n",
    "\n",
    "$$\n",
    "\\begin{aligned}\n",
    "E[(a - y)^2] = E[(E[y] - y)^2] & \\Leftrightarrow E[(a - E[y])^2] = 0 \\\\\n",
    "& \\Leftrightarrow a = E[y] \\\\\n",
    "\\end{aligned}\n",
    "$$\n",
    "\n",
    "$$\n",
    "min_{a}(E[(a - y)^2]) = E[(E[y] - y)^2] \\\\\n",
    "argmin_{a}(E[(a - y)^2]) = E[y]\\\\\n",
    "$$"
   ]
  },
  {
   "cell_type": "markdown",
   "metadata": {},
   "source": [
    "$$\n",
    "\\begin{align}\n",
    "E[(a - y)^2 \\mid x] & = E[(a - E[y \\mid x] + E[y \\mid x] - y)^2 \\mid x] \\\\\n",
    "& = E[(a - E[y \\mid x])^2 + (E[y \\mid x] - y)^2 + 2(a - E[y \\mid x])(E[y \\mid x] - y) \\mid x] \\\\\n",
    "& = E[(a - E[y \\mid x])^2 \\mid x] + E[(E[y \\mid x] - y)^2 \\mid x] + 2 E[(a - E[y \\mid x])(E[y \\mid x] - y) \\mid x] \\\\\n",
    "& = E[(a - E[y \\mid x])^2 \\mid x] + E[(E[y \\mid x] - y)^2 \\mid x] + 2 E[a E[y \\mid x] - a y - E[y \\mid x]^2 + E[y \\mid x] y \\mid x] \\\\\n",
    "& = E[(a - E[y \\mid x])^2 \\mid x] + E[(E[y \\mid x] - y)^2 \\mid x] + 2 (E[a E[y \\mid x] \\mid x] - E[a y \\mid x] - E[E[y \\mid x]^2 \\mid x] + E[E[y \\mid x] y \\mid x]) \\\\\n",
    "& = E[(a - E[y \\mid x])^2 \\mid x] + E[(E[y \\mid x] - y)^2 \\mid x] + 2 (E[E[y \\mid x] E[a \\mid x] - a E[y \\mid x] - E[y \\mid x]^2 + E[y \\mid x]^2]) \\\\\n",
    "& = E[(a - E[y \\mid x])^2 \\mid x] + E[(E[y \\mid x] - y)^2 \\mid x] + 2 (0) \\\\\n",
    "& = E[(a - E[y \\mid x])^2 \\mid x] + E[(E[y \\mid x] - y)^2 \\mid x] \\\\\n",
    "\\end{align}\n",
    "$$\n",
    "\n",
    "$$\n",
    "\\begin{align}\n",
    "(a - E[y \\mid x])^2 \\geq 0 & \\Rightarrow E[(a - E[y \\mid x])^2 \\mid x] \\geq 0\\\\\n",
    "& \\Rightarrow E[(a - E[y \\mid x])^2 \\mid x] + E[(E[y \\mid x] - y)^2 \\mid x] \\geq E[(E[y \\mid x] - y)^2 \\mid x]\\\\\n",
    "& \\Rightarrow E[(a - y)^2 \\mid x] \\geq E[(E[y \\mid x] - y)^2 \\mid x] \\\\\n",
    "\\end{align}\n",
    "$$\n",
    "\n",
    "$$\n",
    "\\begin{align}\n",
    "E[(a - y)^2 \\mid x] = E[(E[y \\mid x] - y)^2 \\mid x] & \\Leftrightarrow E[(a - E[y \\mid x])^2 \\mid x] = 0 \\\\\n",
    "& \\Leftrightarrow a - E[y \\mid x] = 0 \\\\\n",
    "& \\Leftrightarrow a = E[y \\mid x] \\\\\n",
    "& \\Leftrightarrow f(x) = E[y \\mid x] \\\\\n",
    "& \\Rightarrow f^{*}(x) = E[y \\mid x] \\\\\n",
    "\\end{align}\n",
    "$$"
   ]
  },
  {
   "cell_type": "code",
   "execution_count": null,
   "metadata": {},
   "outputs": [],
   "source": [
    "### Feature normalization\n",
    "def feature_normalization(train, test):\n",
    "    \"\"\"Rescale the data so that each feature in the training set is in\n",
    "    the interval [0,1], and apply the same transformations to the test\n",
    "    set, using the statistics computed on the training set.\n",
    "\n",
    "    Args:\n",
    "        train - training set, a 2D numpy array of size (num_instances, num_features)\n",
    "        test - test set, a 2D numpy array of size (num_instances, num_features)\n",
    "\n",
    "    Returns:\n",
    "        train_normalized - training set after normalization\n",
    "        test_normalized - test set after normalization\n",
    "    \"\"\"\n",
    "    num_instances = train.shape[0]\n",
    "    num_features = train.shape[1]\n",
    "    \n",
    "    mean_vec = np.apply_along_axis(np.mean, 0, train).reshape(num_instances, 1)\n",
    "    std_vec = np.apply_along_axis(np.std, 0, train).reshape(num_instances, 1)\n",
    "    \n",
    "    const_feature_indices = np.where(std_vec == 0)\n",
    "    train = np.delete(train, const_feature_indices, 1)\n",
    "    test = np.detele(test, const_feature_indices, 1)\n",
    "    \n",
    "    train_normalized = (train - mean_vec) / std_vec\n",
    "    test_normalized = (test - mean_vec) / std_vec\n",
    "    \n",
    "    return train_normalized, test_normalized"
   ]
  }
 ],
 "metadata": {
  "kernelspec": {
   "display_name": "Python 3",
   "language": "python",
   "name": "python3"
  },
  "language_info": {
   "codemirror_mode": {
    "name": "ipython",
    "version": 3
   },
   "file_extension": ".py",
   "mimetype": "text/x-python",
   "name": "python",
   "nbconvert_exporter": "python",
   "pygments_lexer": "ipython3",
   "version": "3.7.3"
  }
 },
 "nbformat": 4,
 "nbformat_minor": 2
}
