{
 "cells": [
  {
   "cell_type": "markdown",
   "metadata": {},
   "source": [
    "### SPARSE REPRESENTATION"
   ]
  },
  {
   "cell_type": "code",
   "execution_count": 13,
   "metadata": {},
   "outputs": [],
   "source": [
    "import math\n",
    "import random\n",
    "import os\n",
    "\n",
    "from collections import Counter\n",
    "\n",
    "import numpy as np\n",
    "import pandas as pd\n",
    "import itertools\n",
    "import matplotlib.pyplot as plt\n",
    "%matplotlib inline\n",
    "from copy import copy\n",
    "from scipy.optimize import minimize\n",
    "\n",
    "from sklearn.base import BaseEstimator, RegressorMixin\n",
    "from sklearn.linear_model import Ridge, Lasso\n",
    "from sklearn.model_selection import GridSearchCV, PredefinedSplit\n",
    "from sklearn.model_selection import ParameterGrid\n",
    "from sklearn.metrics import mean_squared_error, make_scorer\n",
    "from sklearn.metrics import confusion_matrix\n",
    "\n",
    ""
   ]
  },
  {
   "cell_type": "code",
   "execution_count": 14,
   "metadata": {},
   "outputs": [],
   "source": [
    "\n",
    "DATA_DIR = '../data/svm/data/'\n",
    "POS_DATA_DIR = DATA_DIR + 'pos/'\n",
    "NEG_DATA_DIR = DATA_DIR + 'neg/'\n",
    "TRAIN_SPLIT_COUNT = 1500\n"
   ]
  },
  {
   "cell_type": "code",
   "execution_count": 15,
   "metadata": {},
   "outputs": [],
   "source": [
    "\n",
    "# read review file into a list of strings\n",
    "# each string = a token from the review\n",
    "def read_file(filepath):\n",
    "    f = open(filepath)\n",
    "    lines = f.read().split(' ')\n",
    "    symbols = '${}()[].,:;+-*/&|<>=~\" '\n",
    "    words = map(lambda Element: Element.translate(str.maketrans(\"\", \"\", symbols)).strip(), lines)\n",
    "    words = filter(None, words)\n",
    "    return Counter(list(words))\n",
    "\n",
    "# return list of file names in a directory\n",
    "# skips directories\n",
    "def list_dir_files(dirpath):\n",
    "    file_names = []\n",
    "    children = os.listdir(dirpath)\n",
    "\n",
    "    for child in children:\n",
    "        if os.path.isfile(os.path.join(dirpath, child)):\n",
    "            file_names.append(child)\n",
    "    \n",
    "    return file_names\n",
    "\n",
    "# read all files in the directory\n",
    "def read_dir(dirpath):\n",
    "    file_contents = []\n",
    "    file_names = list_dir_files(dirpath)\n",
    "\n",
    "    for file_name in file_names:\n",
    "        filepath = os.path.join(dirpath, file_name)\n",
    "        file_content = read_file(filepath)\n",
    "        file_contents.append(file_content)\n",
    "\n",
    "    return file_contents"
   ]
  },
  {
   "cell_type": "code",
   "execution_count": 23,
   "metadata": {},
   "outputs": [],
   "source": [
    "pos_reviews = read_dir(POS_DATA_DIR)\n",
    "neg_reviews = read_dir(NEG_DATA_DIR)\n",
    "\n",
    "NUM_POS_REVIEWS = len(pos_reviews)\n",
    "NUM_NEG_REVIEWS = len(neg_reviews)\n",
    "\n",
    "pos_review_points = list(zip(pos_reviews, [1] * NUM_POS_REVIEWS, range(1, NUM_POS_REVIEWS + 1)))\n",
    "neg_review_points = list(zip(neg_reviews, [-1] * NUM_NEG_REVIEWS, range(1, NUM_NEG_REVIEWS + 1)))\n",
    "\n",
    "all_points = pos_review_points.copy()\n",
    "all_points.extend(neg_review_points)\n",
    "random.shuffle(all_points)\n",
    "\n",
    "train = all_points[:TRAIN_SPLIT_COUNT]\n",
    "test = all_points[TRAIN_SPLIT_COUNT:]\n",
    "\n",
    "train_unzip = list(zip(*train))\n",
    "train_X = list(train_unzip[0])\n",
    "train_Y = list(train_unzip[1])\n",
    "train_indices = list(train_unzip[2])\n",
    "\n",
    "test_unzip = list(zip(*test))\n",
    "test_X = list(test_unzip[0])\n",
    "test_Y = list(test_unzip[1])\n",
    "test_indices = list(test_unzip[2])\n",
    ""
   ]
  },
  {
   "cell_type": "markdown",
   "metadata": {},
   "source": [
    "### SVM with PEGASOS"
   ]
  },
  {
   "cell_type": "code",
   "execution_count": null,
   "metadata": {},
   "outputs": [],
   "source": [
    "\"\"\"\n",
    "Dot product between sparse representation of dictionaries/counters\n",
    "\"\"\"\n",
    "def sparse_dot(d1, d2):\n",
    "    if len(d1) < len(d2):\n",
    "        return sparse_dot(d1, d2)\n",
    "    \n",
    "    return sum(d1[k] * v for k, v in d2.items())\n",
    "\n",
    "\"\"\"\n",
    "Inplace linear combination update for d1 += z * d2\n",
    "\"\"\"\n",
    "def sparse_lc(d1, z, d2):\n",
    "    for k, v in d2.items():\n",
    "        d1[k] += z * v"
   ]
  },
  {
   "cell_type": "code",
   "execution_count": 24,
   "metadata": {},
   "outputs": [],
   "source": [
    "\n",
    "class Pegasos():\n",
    "    def __init__(self, l2_reg = 1):\n",
    "        self.w = Counter()\n",
    "        self.l2_reg = l2_reg\n",
    "    \n",
    "    def fit(self, X, y, max_epochs = 1000):\n",
    "        epoch = 0\n",
    "        m = len(X)\n",
    "        t = 0\n",
    "        while epoch < max_epochs:\n",
    "            for j in range(m):\n",
    "                x_j = X[j]\n",
    "                y_j = y[j]\n",
    "\n",
    "                t += 1\n",
    "                step_size = 1 / (t * self.l2_reg)\n",
    "\n",
    "                if y_j * sparse_dot(w, x_j) < 1:\n",
    "                    sparse_lc(self.w, 1 - step_size * self.l2_reg, self.w)\n",
    "                    sparse_lc(self.w, step_size * y_j, x_j)\n",
    "                \n",
    "                else:\n",
    "                    sparse_lc(self.w, 1 - step_size * self.l2_reg, self.w)\n",
    "                \n",
    "                epoch += 1\n",
    "        \n",
    "        return self.w\n",
    "        "
   ]
  },
  {
   "cell_type": "code",
   "execution_count": null,
   "metadata": {},
   "outputs": [],
   "source": []
  }
 ],
 "metadata": {
  "kernelspec": {
   "display_name": "Python 3.7.3 64-bit ('base': conda)",
   "language": "python",
   "name": "python37364bitbaseconda5256b649568d47b0ada5f4982042f9e1"
  },
  "language_info": {
   "codemirror_mode": {
    "name": "ipython",
    "version": 3
   },
   "file_extension": ".py",
   "mimetype": "text/x-python",
   "name": "python",
   "nbconvert_exporter": "python",
   "pygments_lexer": "ipython3",
   "version": "3.7.3-final"
  }
 },
 "nbformat": 4,
 "nbformat_minor": 2
}